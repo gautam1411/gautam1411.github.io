{
 "cells": [
  {
   "cell_type": "code",
   "execution_count": 1,
   "metadata": {
    "collapsed": true
   },
   "outputs": [],
   "source": [
    "import py_entitymatching as em #Import mangellan library\n",
    "import math"
   ]
  },
  {
   "cell_type": "code",
   "execution_count": 2,
   "metadata": {
    "collapsed": true
   },
   "outputs": [],
   "source": [
    "# This function was used for approximate verification of tagged_data, since we noticed that, \n",
    "# In case of a match, the phone numbers matched in most of the cases. \n",
    "\n",
    "# Matches phone numbers - Matches only the digits and drops other characters. \n",
    "# Handles NaN values.\n",
    "# If both the fields to be matches are NaN, the result is passed as True to bypass this test for that case. \n",
    "\n",
    "def phone_match(str1,str2):\n",
    "    if type(str1) is float and type(str2) is float:\n",
    "        if math.isnan(str1) and math.isnan(str2):\n",
    "            return True\n",
    "    elif type(str1) is float:\n",
    "        if math.isnan(str1):\n",
    "            return False\n",
    "    elif type(str2) is float:\n",
    "        if math.isnan(str2):\n",
    "            return False\n",
    "    else:\n",
    "        stra = \"\"\n",
    "        strb = \"\"\n",
    "        for ch in str1:\n",
    "            if ch.isdigit():\n",
    "                stra += ch\n",
    "        for ch in str2:\n",
    "            if ch.isdigit():\n",
    "                strb += ch\n",
    "        if stra == strb:\n",
    "            return True\n",
    "        else:\n",
    "            return False"
   ]
  },
  {
   "cell_type": "code",
   "execution_count": 4,
   "metadata": {
    "collapsed": false
   },
   "outputs": [],
   "source": [
    "# Read the CSV files\n",
    "yelp = em.read_csv_metadata('./yelp.csv', key='id')\n",
    "zomato = em.read_csv_metadata('./zomato.csv', key='id')"
   ]
  },
  {
   "cell_type": "code",
   "execution_count": 7,
   "metadata": {
    "collapsed": false
   },
   "outputs": [
    {
     "data": {
      "text/html": [
       "<div>\n",
       "<table border=\"1\" class=\"dataframe\">\n",
       "  <thead>\n",
       "    <tr style=\"text-align: right;\">\n",
       "      <th></th>\n",
       "      <th>id</th>\n",
       "      <th>Name</th>\n",
       "      <th>Phone</th>\n",
       "      <th>Zipcode</th>\n",
       "      <th>State</th>\n",
       "      <th>City</th>\n",
       "      <th>Address</th>\n",
       "      <th>Delivery</th>\n",
       "      <th>Takeout</th>\n",
       "      <th>Outdoor_seating</th>\n",
       "    </tr>\n",
       "  </thead>\n",
       "  <tbody>\n",
       "    <tr>\n",
       "      <th>0</th>\n",
       "      <td>1</td>\n",
       "      <td>Nini’s Deli</td>\n",
       "      <td>(312) 243-9822</td>\n",
       "      <td>60642.0</td>\n",
       "      <td>IL</td>\n",
       "      <td>Chicago</td>\n",
       "      <td>543 N Noble St</td>\n",
       "      <td>0</td>\n",
       "      <td>1</td>\n",
       "      <td>1</td>\n",
       "    </tr>\n",
       "  </tbody>\n",
       "</table>\n",
       "</div>"
      ],
      "text/plain": [
       "   id         Name           Phone  Zipcode State     City         Address  \\\n",
       "0   1  Nini’s Deli  (312) 243-9822  60642.0    IL  Chicago  543 N Noble St   \n",
       "\n",
       "   Delivery  Takeout  Outdoor_seating  \n",
       "0         0        1                1  "
      ]
     },
     "execution_count": 7,
     "metadata": {},
     "output_type": "execute_result"
    }
   ],
   "source": [
    "#Printing first few tuples of Zomato table\n",
    "yelp.head(1)"
   ]
  },
  {
   "cell_type": "code",
   "execution_count": 8,
   "metadata": {
    "collapsed": false
   },
   "outputs": [
    {
     "data": {
      "text/html": [
       "<div>\n",
       "<table border=\"1\" class=\"dataframe\">\n",
       "  <thead>\n",
       "    <tr style=\"text-align: right;\">\n",
       "      <th></th>\n",
       "      <th>id</th>\n",
       "      <th>Name</th>\n",
       "      <th>Phone</th>\n",
       "      <th>Zipcode</th>\n",
       "      <th>State</th>\n",
       "      <th>City</th>\n",
       "      <th>Address</th>\n",
       "      <th>Delivery</th>\n",
       "      <th>Takeout</th>\n",
       "      <th>Outdoor_seating</th>\n",
       "    </tr>\n",
       "  </thead>\n",
       "  <tbody>\n",
       "    <tr>\n",
       "      <th>0</th>\n",
       "      <td>1</td>\n",
       "      <td>Alinea</td>\n",
       "      <td>(312) 867-0110</td>\n",
       "      <td>60614.0</td>\n",
       "      <td>IL</td>\n",
       "      <td>Chicago</td>\n",
       "      <td>1723 N. Halsted Street</td>\n",
       "      <td>0</td>\n",
       "      <td>0</td>\n",
       "      <td>0</td>\n",
       "    </tr>\n",
       "  </tbody>\n",
       "</table>\n",
       "</div>"
      ],
      "text/plain": [
       "   id    Name           Phone  Zipcode State     City                 Address  \\\n",
       "0   1  Alinea  (312) 867-0110  60614.0    IL  Chicago  1723 N. Halsted Street   \n",
       "\n",
       "   Delivery  Takeout  Outdoor_seating  \n",
       "0         0        0                0  "
      ]
     },
     "execution_count": 8,
     "metadata": {},
     "output_type": "execute_result"
    }
   ],
   "source": [
    "#Printing first few tuples of Zomato table\n",
    "zomato.head(1)"
   ]
  },
  {
   "cell_type": "code",
   "execution_count": 9,
   "metadata": {
    "collapsed": false
   },
   "outputs": [
    {
     "name": "stdout",
     "output_type": "stream",
     "text": [
      "3075 3478\n"
     ]
    }
   ],
   "source": [
    "# Display the number of tuples in the input dataset \n",
    "print len(yelp), len(zomato)"
   ]
  },
  {
   "cell_type": "code",
   "execution_count": 24,
   "metadata": {
    "collapsed": true
   },
   "outputs": [],
   "source": [
    "# Downsample the datasets \n",
    "yelp_subset, zomato_subset = em.down_sample(yelp, zomato, size=2500, y_param=1, show_progress=False)"
   ]
  },
  {
   "cell_type": "code",
   "execution_count": 25,
   "metadata": {
    "collapsed": false
   },
   "outputs": [
    {
     "data": {
      "text/plain": [
       "(849, 2500)"
      ]
     },
     "execution_count": 25,
     "metadata": {},
     "output_type": "execute_result"
    }
   ],
   "source": [
    "# Display the number of tuples in the sampled datasets\n",
    "len(yelp_subset), len(zomato_subset)"
   ]
  },
  {
   "cell_type": "markdown",
   "metadata": {},
   "source": [
    "### Carry out Overlapping Blocking on Address"
   ]
  },
  {
   "cell_type": "code",
   "execution_count": 26,
   "metadata": {
    "collapsed": false
   },
   "outputs": [
    {
     "name": "stdout",
     "output_type": "stream",
     "text": [
      "yelp attributes:  ['id', 'Name', 'Phone', 'Zipcode', 'State', 'City', 'Address', 'Delivery', 'Takeout', 'Outdoor_seating']\n",
      "\n",
      "zomato attributes:  ['id', 'Name', 'Phone', 'Zipcode', 'State', 'City', 'Address', 'Delivery', 'Takeout', 'Outdoor_seating']\n"
     ]
    }
   ],
   "source": [
    "# Instantiate overlap blocker object\n",
    "ob = em.OverlapBlocker()\n",
    "\n",
    "# Get the list of attributes of yelp table\n",
    "yelp_attrs = []\n",
    "for attr in yelp.keys():\n",
    "    yelp_attrs.append(attr)\n",
    "\n",
    "# Get the list of attributed of zomato table\n",
    "zomato_attrs = []\n",
    "for attr in zomato.keys():\n",
    "    zomato_attrs.append(attr)\n",
    "\n",
    "print \"yelp attributes: \", yelp_attrs\n",
    "print \"\\nzomato attributes: \", zomato_attrs\n",
    "\n",
    "\n",
    "# Specify the tokenization to be 'word' level and set overlap_size to be 2.\n",
    "C1 = ob.block_tables(yelp_subset, zomato_subset, 'Address', 'Address', q_val=3, word_level=False, overlap_size=3,\n",
    "                     rem_stop_words=False,\n",
    "                     l_output_attrs=yelp_attrs, r_output_attrs=zomato_attrs, show_progress=False)"
   ]
  },
  {
   "cell_type": "code",
   "execution_count": 27,
   "metadata": {
    "collapsed": false
   },
   "outputs": [
    {
     "data": {
      "text/plain": [
       "(146597, 21)"
      ]
     },
     "execution_count": 27,
     "metadata": {},
     "output_type": "execute_result"
    }
   ],
   "source": [
    "C1.shape"
   ]
  },
  {
   "cell_type": "code",
   "execution_count": 28,
   "metadata": {
    "collapsed": false
   },
   "outputs": [
    {
     "data": {
      "text/html": [
       "<div>\n",
       "<table border=\"1\" class=\"dataframe\">\n",
       "  <thead>\n",
       "    <tr style=\"text-align: right;\">\n",
       "      <th></th>\n",
       "      <th>_id</th>\n",
       "      <th>ltable_id</th>\n",
       "      <th>rtable_id</th>\n",
       "      <th>ltable_Name</th>\n",
       "      <th>ltable_Phone</th>\n",
       "      <th>ltable_Zipcode</th>\n",
       "      <th>ltable_State</th>\n",
       "      <th>ltable_City</th>\n",
       "      <th>ltable_Address</th>\n",
       "      <th>ltable_Delivery</th>\n",
       "      <th>...</th>\n",
       "      <th>ltable_Outdoor_seating</th>\n",
       "      <th>rtable_Name</th>\n",
       "      <th>rtable_Phone</th>\n",
       "      <th>rtable_Zipcode</th>\n",
       "      <th>rtable_State</th>\n",
       "      <th>rtable_City</th>\n",
       "      <th>rtable_Address</th>\n",
       "      <th>rtable_Delivery</th>\n",
       "      <th>rtable_Takeout</th>\n",
       "      <th>rtable_Outdoor_seating</th>\n",
       "    </tr>\n",
       "  </thead>\n",
       "  <tbody>\n",
       "    <tr>\n",
       "      <th>0</th>\n",
       "      <td>0</td>\n",
       "      <td>2392</td>\n",
       "      <td>1633</td>\n",
       "      <td>Chiso Restaurant</td>\n",
       "      <td>(206) 632-3430</td>\n",
       "      <td>98103.0</td>\n",
       "      <td>WA</td>\n",
       "      <td>Seattle</td>\n",
       "      <td>3520 Fremont Ave N</td>\n",
       "      <td>0</td>\n",
       "      <td>...</td>\n",
       "      <td>0</td>\n",
       "      <td>Tonga Room &amp; Hurricane Bar</td>\n",
       "      <td>(415) 772-5278</td>\n",
       "      <td>94108.0</td>\n",
       "      <td>CA</td>\n",
       "      <td>San Francisco</td>\n",
       "      <td>Fairmont San Francisco Hotel</td>\n",
       "      <td>0</td>\n",
       "      <td>0</td>\n",
       "      <td>0</td>\n",
       "    </tr>\n",
       "    <tr>\n",
       "      <th>1</th>\n",
       "      <td>1</td>\n",
       "      <td>90</td>\n",
       "      <td>1633</td>\n",
       "      <td>MK Restaurant</td>\n",
       "      <td>(312) 482-9179</td>\n",
       "      <td>60610.0</td>\n",
       "      <td>IL</td>\n",
       "      <td>Chicago</td>\n",
       "      <td>868 N Franklin St</td>\n",
       "      <td>0</td>\n",
       "      <td>...</td>\n",
       "      <td>0</td>\n",
       "      <td>Tonga Room &amp; Hurricane Bar</td>\n",
       "      <td>(415) 772-5278</td>\n",
       "      <td>94108.0</td>\n",
       "      <td>CA</td>\n",
       "      <td>San Francisco</td>\n",
       "      <td>Fairmont San Francisco Hotel</td>\n",
       "      <td>0</td>\n",
       "      <td>0</td>\n",
       "      <td>0</td>\n",
       "    </tr>\n",
       "    <tr>\n",
       "      <th>2</th>\n",
       "      <td>2</td>\n",
       "      <td>126</td>\n",
       "      <td>1633</td>\n",
       "      <td>The Capital Grille</td>\n",
       "      <td>(312) 337-9400</td>\n",
       "      <td>60611.0</td>\n",
       "      <td>IL</td>\n",
       "      <td>Chicago</td>\n",
       "      <td>633 N Saint Clair St</td>\n",
       "      <td>0</td>\n",
       "      <td>...</td>\n",
       "      <td>0</td>\n",
       "      <td>Tonga Room &amp; Hurricane Bar</td>\n",
       "      <td>(415) 772-5278</td>\n",
       "      <td>94108.0</td>\n",
       "      <td>CA</td>\n",
       "      <td>San Francisco</td>\n",
       "      <td>Fairmont San Francisco Hotel</td>\n",
       "      <td>0</td>\n",
       "      <td>0</td>\n",
       "      <td>0</td>\n",
       "    </tr>\n",
       "    <tr>\n",
       "      <th>3</th>\n",
       "      <td>3</td>\n",
       "      <td>179</td>\n",
       "      <td>1633</td>\n",
       "      <td>Tru</td>\n",
       "      <td>(312) 202-0001</td>\n",
       "      <td>60611.0</td>\n",
       "      <td>IL</td>\n",
       "      <td>Chicago</td>\n",
       "      <td>676 N Saint Clair St</td>\n",
       "      <td>0</td>\n",
       "      <td>...</td>\n",
       "      <td>0</td>\n",
       "      <td>Tonga Room &amp; Hurricane Bar</td>\n",
       "      <td>(415) 772-5278</td>\n",
       "      <td>94108.0</td>\n",
       "      <td>CA</td>\n",
       "      <td>San Francisco</td>\n",
       "      <td>Fairmont San Francisco Hotel</td>\n",
       "      <td>0</td>\n",
       "      <td>0</td>\n",
       "      <td>0</td>\n",
       "    </tr>\n",
       "    <tr>\n",
       "      <th>4</th>\n",
       "      <td>4</td>\n",
       "      <td>181</td>\n",
       "      <td>1633</td>\n",
       "      <td>BIG &amp; Little's Restaurant</td>\n",
       "      <td>(773) 857-6677</td>\n",
       "      <td>60657.0</td>\n",
       "      <td>IL</td>\n",
       "      <td>Chicago</td>\n",
       "      <td>1034 W Belmont Ave</td>\n",
       "      <td>1</td>\n",
       "      <td>...</td>\n",
       "      <td>1</td>\n",
       "      <td>Tonga Room &amp; Hurricane Bar</td>\n",
       "      <td>(415) 772-5278</td>\n",
       "      <td>94108.0</td>\n",
       "      <td>CA</td>\n",
       "      <td>San Francisco</td>\n",
       "      <td>Fairmont San Francisco Hotel</td>\n",
       "      <td>0</td>\n",
       "      <td>0</td>\n",
       "      <td>0</td>\n",
       "    </tr>\n",
       "  </tbody>\n",
       "</table>\n",
       "<p>5 rows × 21 columns</p>\n",
       "</div>"
      ],
      "text/plain": [
       "   _id  ltable_id  rtable_id                ltable_Name    ltable_Phone  \\\n",
       "0    0       2392       1633           Chiso Restaurant  (206) 632-3430   \n",
       "1    1         90       1633              MK Restaurant  (312) 482-9179   \n",
       "2    2        126       1633         The Capital Grille  (312) 337-9400   \n",
       "3    3        179       1633                        Tru  (312) 202-0001   \n",
       "4    4        181       1633  BIG & Little's Restaurant  (773) 857-6677   \n",
       "\n",
       "   ltable_Zipcode ltable_State ltable_City        ltable_Address  \\\n",
       "0         98103.0           WA     Seattle    3520 Fremont Ave N   \n",
       "1         60610.0           IL     Chicago     868 N Franklin St   \n",
       "2         60611.0           IL     Chicago  633 N Saint Clair St   \n",
       "3         60611.0           IL     Chicago  676 N Saint Clair St   \n",
       "4         60657.0           IL     Chicago    1034 W Belmont Ave   \n",
       "\n",
       "   ltable_Delivery           ...            ltable_Outdoor_seating  \\\n",
       "0                0           ...                                 0   \n",
       "1                0           ...                                 0   \n",
       "2                0           ...                                 0   \n",
       "3                0           ...                                 0   \n",
       "4                1           ...                                 1   \n",
       "\n",
       "                  rtable_Name    rtable_Phone rtable_Zipcode  rtable_State  \\\n",
       "0  Tonga Room & Hurricane Bar  (415) 772-5278        94108.0            CA   \n",
       "1  Tonga Room & Hurricane Bar  (415) 772-5278        94108.0            CA   \n",
       "2  Tonga Room & Hurricane Bar  (415) 772-5278        94108.0            CA   \n",
       "3  Tonga Room & Hurricane Bar  (415) 772-5278        94108.0            CA   \n",
       "4  Tonga Room & Hurricane Bar  (415) 772-5278        94108.0            CA   \n",
       "\n",
       "     rtable_City                rtable_Address rtable_Delivery  \\\n",
       "0  San Francisco  Fairmont San Francisco Hotel               0   \n",
       "1  San Francisco  Fairmont San Francisco Hotel               0   \n",
       "2  San Francisco  Fairmont San Francisco Hotel               0   \n",
       "3  San Francisco  Fairmont San Francisco Hotel               0   \n",
       "4  San Francisco  Fairmont San Francisco Hotel               0   \n",
       "\n",
       "   rtable_Takeout  rtable_Outdoor_seating  \n",
       "0               0                       0  \n",
       "1               0                       0  \n",
       "2               0                       0  \n",
       "3               0                       0  \n",
       "4               0                       0  \n",
       "\n",
       "[5 rows x 21 columns]"
      ]
     },
     "execution_count": 28,
     "metadata": {},
     "output_type": "execute_result"
    }
   ],
   "source": [
    "C1.head()"
   ]
  },
  {
   "cell_type": "code",
   "execution_count": 29,
   "metadata": {
    "collapsed": false
   },
   "outputs": [],
   "source": [
    "#Used to check the detected stop words for debugging\n",
    "#ob.stop_words"
   ]
  },
  {
   "cell_type": "markdown",
   "metadata": {},
   "source": [
    "## Blocking of name"
   ]
  },
  {
   "cell_type": "code",
   "execution_count": 30,
   "metadata": {
    "collapsed": false
   },
   "outputs": [
    {
     "name": "stderr",
     "output_type": "stream",
     "text": [
      "0%                          100%\n",
      "[##############################] | ETA: 00:00:12 | ETA: 00:00:09 | ETA: 00:00:07 | ETA: 00:00:07 | ETA: 00:00:06 | ETA: 00:00:06 | ETA: 00:00:06 | ETA: 00:00:05 | ETA: 00:00:05 | ETA: 00:00:04 | ETA: 00:00:04 | ETA: 00:00:04 | ETA: 00:00:04 | ETA: 00:00:03 | ETA: 00:00:03 | ETA: 00:00:03 | ETA: 00:00:03 | ETA: 00:00:02 | ETA: 00:00:02 | ETA: 00:00:02 | ETA: 00:00:02 | ETA: 00:00:01 | ETA: 00:00:01 | ETA: 00:00:01 | ETA: 00:00:01 | ETA: 00:00:00 | ETA: 00:00:00 | ETA: 00:00:00 | ETA: 00:00:00 | ETA: 00:00:00 | ETA: 00:00:00\n",
      "Total time elapsed: 00:00:06\n"
     ]
    }
   ],
   "source": [
    "# Specify the tokenization to be 'word' level and set overlap_size to be 1.\n",
    "C2 = ob.block_candset(C1, 'Name', 'Name', word_level=False, q_val= 3, overlap_size=1, show_progress=False)"
   ]
  },
  {
   "cell_type": "code",
   "execution_count": 31,
   "metadata": {
    "collapsed": false
   },
   "outputs": [
    {
     "data": {
      "text/plain": [
       "(33506, 21)"
      ]
     },
     "execution_count": 31,
     "metadata": {},
     "output_type": "execute_result"
    }
   ],
   "source": [
    "C2.shape"
   ]
  },
  {
   "cell_type": "code",
   "execution_count": 32,
   "metadata": {
    "collapsed": false
   },
   "outputs": [],
   "source": [
    "# Instantiate Attr. Equivalence Blocker\n",
    "ab = em.AttrEquivalenceBlocker()\n",
    "# Use block_tables to apply blocking over two input tables.\n",
    "C3 = ab.block_candset(C2, l_block_attr='Zipcode', r_block_attr='Zipcode', show_progress=False)"
   ]
  },
  {
   "cell_type": "code",
   "execution_count": 40,
   "metadata": {
    "collapsed": false
   },
   "outputs": [
    {
     "data": {
      "text/plain": [
       "1688"
      ]
     },
     "execution_count": 40,
     "metadata": {},
     "output_type": "execute_result"
    }
   ],
   "source": [
    "# Number of tuples in dataset after blocking\n",
    "len(C3)"
   ]
  },
  {
   "cell_type": "code",
   "execution_count": 34,
   "metadata": {
    "collapsed": false
   },
   "outputs": [
    {
     "name": "stdout",
     "output_type": "stream",
     "text": [
      "399\n"
     ]
    }
   ],
   "source": [
    "# Checking by matching phone numbers. Just a way of verifying the data.\n",
    "# Not intending to get the exact match, just get a rough estimate.\n",
    "\n",
    "count = 0\n",
    "for r1,p1,r2,p2 in zip(C3['ltable_Name'],C3['ltable_Phone'],C3['rtable_Name'],C3['rtable_Phone']):\n",
    "    #print p1,\"\\t\",p2\n",
    "    if phone_match(p1,p2):\n",
    "        #print p1, p2\n",
    "        count += 1\n",
    "print count"
   ]
  },
  {
   "cell_type": "code",
   "execution_count": 35,
   "metadata": {
    "collapsed": false
   },
   "outputs": [
    {
     "data": {
      "text/plain": [
       "Index([u'_id', u'ltable_id', u'rtable_id', u'ltable_Name', u'ltable_Phone',\n",
       "       u'ltable_Zipcode', u'ltable_State', u'ltable_City', u'ltable_Address',\n",
       "       u'ltable_Delivery', u'ltable_Takeout', u'ltable_Outdoor_seating',\n",
       "       u'rtable_Name', u'rtable_Phone', u'rtable_Zipcode', u'rtable_State',\n",
       "       u'rtable_City', u'rtable_Address', u'rtable_Delivery',\n",
       "       u'rtable_Takeout', u'rtable_Outdoor_seating'],\n",
       "      dtype='object')"
      ]
     },
     "execution_count": 35,
     "metadata": {},
     "output_type": "execute_result"
    }
   ],
   "source": [
    "# To find the attributes of C3\n",
    "C3.columns"
   ]
  },
  {
   "cell_type": "code",
   "execution_count": 37,
   "metadata": {
    "collapsed": false
   },
   "outputs": [],
   "source": [
    "# Write C3 to csv for Manual Marking(Labelling)\n",
    "C3.to_csv(\"blocked_dataset_2.csv\") #Too many attributes. Difficult for labelling"
   ]
  },
  {
   "cell_type": "code",
   "execution_count": 38,
   "metadata": {
    "collapsed": false
   },
   "outputs": [
    {
     "data": {
      "text/plain": [
       "(1100, 21)"
      ]
     },
     "execution_count": 38,
     "metadata": {},
     "output_type": "execute_result"
    }
   ],
   "source": [
    "#Downsampling the blocked table to be tagged\n",
    "S = em.sample_table(C3, 1100)\n",
    "S.shape"
   ]
  },
  {
   "cell_type": "code",
   "execution_count": 39,
   "metadata": {
    "collapsed": true
   },
   "outputs": [],
   "source": [
    "#Writing this table to disk\n",
    "S.to_csv(\"to_be_tagged_2.csv\")"
   ]
  }
 ],
 "metadata": {
  "kernelspec": {
   "display_name": "Python 2",
   "language": "python",
   "name": "python2"
  },
  "language_info": {
   "codemirror_mode": {
    "name": "ipython",
    "version": 2
   },
   "file_extension": ".py",
   "mimetype": "text/x-python",
   "name": "python",
   "nbconvert_exporter": "python",
   "pygments_lexer": "ipython2",
   "version": "2.7.13"
  }
 },
 "nbformat": 4,
 "nbformat_minor": 2
}
