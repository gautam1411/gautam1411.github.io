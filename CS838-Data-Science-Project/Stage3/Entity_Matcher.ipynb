{
 "cells": [
  {
   "cell_type": "code",
   "execution_count": 1,
   "metadata": {
    "collapsed": true
   },
   "outputs": [],
   "source": [
    "import py_entitymatching as em #Import megallan entity matching library"
   ]
  },
  {
   "cell_type": "code",
   "execution_count": 28,
   "metadata": {
    "collapsed": false
   },
   "outputs": [],
   "source": [
    "# Import the data set after blocking\n",
    "yelp = em.read_csv_metadata(\"yelp.csv\",key=\"id\")\n",
    "zomato = em.read_csv_metadata(\"zomato.csv\",key=\"id\")\n",
    "S = em.read_csv_metadata(\"tagged_dataset.csv\", key='_id', fk_ltable='ltable_id', fk_rtable='rtable_id',ltable=yelp, rtable=zomato)"
   ]
  },
  {
   "cell_type": "code",
   "execution_count": 29,
   "metadata": {
    "collapsed": false
   },
   "outputs": [
    {
     "data": {
      "text/plain": [
       "(1100, 23)"
      ]
     },
     "execution_count": 29,
     "metadata": {},
     "output_type": "execute_result"
    }
   ],
   "source": [
    "S.shape"
   ]
  },
  {
   "cell_type": "code",
   "execution_count": 30,
   "metadata": {
    "collapsed": false
   },
   "outputs": [],
   "source": [
    "# Split G into development (I) and evaluation (J)\n",
    "IJ = em.split_train_test(S, train_proportion=0.7)\n",
    "I = IJ['train'] # Training Set\n",
    "J = IJ['test'] # Test Set"
   ]
  },
  {
   "cell_type": "code",
   "execution_count": 31,
   "metadata": {
    "collapsed": false
   },
   "outputs": [
    {
     "name": "stdout",
     "output_type": "stream",
     "text": [
      "Number of tuples in Development Set = 770\n",
      "Number of tuples in Evaluation Set = 330\n"
     ]
    }
   ],
   "source": [
    "print \"Number of tuples in Development Set =\", len(I)\n",
    "print \"Number of tuples in Evaluation Set =\", len(J)"
   ]
  },
  {
   "cell_type": "code",
   "execution_count": 32,
   "metadata": {
    "collapsed": true
   },
   "outputs": [],
   "source": [
    "# Commenting this code section, since not required at this point of time\n",
    "\n",
    "#Store Development Set\n",
    "#I.to_csv('DevelopmentSet.csv')\n",
    "#Store Evaluation Set\n",
    "#J.to_csv('EvaluationSet.csv')"
   ]
  },
  {
   "cell_type": "code",
   "execution_count": 33,
   "metadata": {
    "collapsed": true
   },
   "outputs": [],
   "source": [
    "# Create a set of ML-matchers\n",
    "dt = em.DTMatcher(max_depth=5)\n",
    "svm = em.SVMMatcher()\n",
    "rf = em.RFMatcher(name='RF', random_state=0)\n",
    "nb = em.NBMatcher(name='NB')\n",
    "lg = em.LogRegMatcher(name='LogReg')\n",
    "ln = em.LinRegMatcher(name='LinReg')"
   ]
  },
  {
   "cell_type": "code",
   "execution_count": 34,
   "metadata": {
    "collapsed": false
   },
   "outputs": [
    {
     "data": {
      "text/html": [
       "<div>\n",
       "<table border=\"1\" class=\"dataframe\">\n",
       "  <thead>\n",
       "    <tr style=\"text-align: right;\">\n",
       "      <th></th>\n",
       "      <th>feature_name</th>\n",
       "      <th>left_attribute</th>\n",
       "      <th>right_attribute</th>\n",
       "      <th>left_attr_tokenizer</th>\n",
       "      <th>right_attr_tokenizer</th>\n",
       "      <th>simfunction</th>\n",
       "      <th>function</th>\n",
       "      <th>function_source</th>\n",
       "      <th>is_auto_generated</th>\n",
       "    </tr>\n",
       "  </thead>\n",
       "  <tbody>\n",
       "    <tr>\n",
       "      <th>0</th>\n",
       "      <td>id_id_exm</td>\n",
       "      <td>id</td>\n",
       "      <td>id</td>\n",
       "      <td>None</td>\n",
       "      <td>None</td>\n",
       "      <td>exact_match</td>\n",
       "      <td>&lt;function id_id_exm at 0x000000000BC02BA8&gt;</td>\n",
       "      <td>from py_entitymatching.feature.simfunctions import *\\nfrom py_entitymatching.feature.tokenizers ...</td>\n",
       "      <td>True</td>\n",
       "    </tr>\n",
       "  </tbody>\n",
       "</table>\n",
       "</div>"
      ],
      "text/plain": [
       "  feature_name left_attribute right_attribute left_attr_tokenizer  \\\n",
       "0    id_id_exm             id              id                None   \n",
       "\n",
       "  right_attr_tokenizer  simfunction  \\\n",
       "0                 None  exact_match   \n",
       "\n",
       "                                     function  \\\n",
       "0  <function id_id_exm at 0x000000000BC02BA8>   \n",
       "\n",
       "                                                                                       function_source  \\\n",
       "0  from py_entitymatching.feature.simfunctions import *\\nfrom py_entitymatching.feature.tokenizers ...   \n",
       "\n",
       "  is_auto_generated  \n",
       "0              True  "
      ]
     },
     "execution_count": 34,
     "metadata": {},
     "output_type": "execute_result"
    }
   ],
   "source": [
    "# Generate features automatically\n",
    "feature_set = em.get_features_for_matching(yelp, zomato)\n",
    "feature_set.head(1)"
   ]
  },
  {
   "cell_type": "code",
   "execution_count": 35,
   "metadata": {
    "collapsed": false
   },
   "outputs": [
    {
     "data": {
      "text/html": [
       "<div>\n",
       "<table border=\"1\" class=\"dataframe\">\n",
       "  <thead>\n",
       "    <tr style=\"text-align: right;\">\n",
       "      <th></th>\n",
       "      <th>_id</th>\n",
       "      <th>ltable_id</th>\n",
       "      <th>rtable_id</th>\n",
       "      <th>id_id_exm</th>\n",
       "      <th>id_id_anm</th>\n",
       "      <th>id_id_lev_dist</th>\n",
       "      <th>id_id_lev_sim</th>\n",
       "      <th>Name_Name_jac_qgm_3_qgm_3</th>\n",
       "      <th>Name_Name_cos_dlm_dc0_dlm_dc0</th>\n",
       "      <th>Name_Name_jac_dlm_dc0_dlm_dc0</th>\n",
       "      <th>...</th>\n",
       "      <th>Delivery_Delivery_lev_sim</th>\n",
       "      <th>Takeout_Takeout_exm</th>\n",
       "      <th>Takeout_Takeout_anm</th>\n",
       "      <th>Takeout_Takeout_lev_dist</th>\n",
       "      <th>Takeout_Takeout_lev_sim</th>\n",
       "      <th>Outdoor_seating_Outdoor_seating_exm</th>\n",
       "      <th>Outdoor_seating_Outdoor_seating_anm</th>\n",
       "      <th>Outdoor_seating_Outdoor_seating_lev_dist</th>\n",
       "      <th>Outdoor_seating_Outdoor_seating_lev_sim</th>\n",
       "      <th>Label</th>\n",
       "    </tr>\n",
       "  </thead>\n",
       "  <tbody>\n",
       "    <tr>\n",
       "      <th>958</th>\n",
       "      <td>97885</td>\n",
       "      <td>733</td>\n",
       "      <td>419</td>\n",
       "      <td>0</td>\n",
       "      <td>0.571623</td>\n",
       "      <td>3.0</td>\n",
       "      <td>0.0</td>\n",
       "      <td>0.111111</td>\n",
       "      <td>0.408248</td>\n",
       "      <td>0.25</td>\n",
       "      <td>...</td>\n",
       "      <td>1.0</td>\n",
       "      <td>1</td>\n",
       "      <td>1.0</td>\n",
       "      <td>0.0</td>\n",
       "      <td>1.0</td>\n",
       "      <td>0</td>\n",
       "      <td>0.0</td>\n",
       "      <td>1.0</td>\n",
       "      <td>0.0</td>\n",
       "      <td>0</td>\n",
       "    </tr>\n",
       "  </tbody>\n",
       "</table>\n",
       "<p>1 rows × 62 columns</p>\n",
       "</div>"
      ],
      "text/plain": [
       "       _id  ltable_id  rtable_id  id_id_exm  id_id_anm  id_id_lev_dist  \\\n",
       "958  97885        733        419          0   0.571623             3.0   \n",
       "\n",
       "     id_id_lev_sim  Name_Name_jac_qgm_3_qgm_3  Name_Name_cos_dlm_dc0_dlm_dc0  \\\n",
       "958            0.0                   0.111111                       0.408248   \n",
       "\n",
       "     Name_Name_jac_dlm_dc0_dlm_dc0  ...    Delivery_Delivery_lev_sim  \\\n",
       "958                           0.25  ...                          1.0   \n",
       "\n",
       "     Takeout_Takeout_exm  Takeout_Takeout_anm  Takeout_Takeout_lev_dist  \\\n",
       "958                    1                  1.0                       0.0   \n",
       "\n",
       "     Takeout_Takeout_lev_sim  Outdoor_seating_Outdoor_seating_exm  \\\n",
       "958                      1.0                                    0   \n",
       "\n",
       "     Outdoor_seating_Outdoor_seating_anm  \\\n",
       "958                                  0.0   \n",
       "\n",
       "     Outdoor_seating_Outdoor_seating_lev_dist  \\\n",
       "958                                       1.0   \n",
       "\n",
       "     Outdoor_seating_Outdoor_seating_lev_sim  Label  \n",
       "958                                      0.0      0  \n",
       "\n",
       "[1 rows x 62 columns]"
      ]
     },
     "execution_count": 35,
     "metadata": {},
     "output_type": "execute_result"
    }
   ],
   "source": [
    "# Get feature vector table for Development set\n",
    "I_feature_vectors = em.extract_feature_vecs(I, feature_table=feature_set, attrs_after='Label', show_progress=False)\n",
    "\n",
    "# Get feature vector table for Evaluation set\n",
    "J_feature_vectors = em.extract_feature_vecs(J, feature_table=feature_set, attrs_after='Label', show_progress=False)\n",
    "\n",
    "I_feature_vectors.head(1)"
   ]
  },
  {
   "cell_type": "code",
   "execution_count": 36,
   "metadata": {
    "collapsed": false
   },
   "outputs": [
    {
     "data": {
      "text/plain": [
       "Index([u'key_id', u'_id', u'ltable_id', u'rtable_id', u'ltable_Name',\n",
       "       u'ltable_Phone', u'ltable_Zipcode', u'ltable_State', u'ltable_City',\n",
       "       u'ltable_Address', u'ltable_Delivery', u'ltable_Takeout',\n",
       "       u'ltable_Outdoor_seating', u'rtable_Name', u'rtable_Phone',\n",
       "       u'rtable_Zipcode', u'rtable_State', u'rtable_City', u'rtable_Address',\n",
       "       u'rtable_Delivery', u'rtable_Takeout', u'rtable_Outdoor_seating',\n",
       "       u'Label'],\n",
       "      dtype='object')"
      ]
     },
     "execution_count": 36,
     "metadata": {},
     "output_type": "execute_result"
    }
   ],
   "source": [
    "# Fill the missing values with 0\n",
    "I_feature_vectors.fillna(value=0, inplace=True)\n",
    "S.columns"
   ]
  },
  {
   "cell_type": "code",
   "execution_count": 37,
   "metadata": {
    "collapsed": false
   },
   "outputs": [],
   "source": [
    "# select the best ML matcher using CV using precision\n",
    "result_precision = em.select_matcher([dt, rf, svm, nb, lg, ln], table=I_feature_vectors, \n",
    "        exclude_attrs=['_id','ltable_id', 'rtable_id', 'Label'], \n",
    "        target_attr='Label', metric='precision', random_state=0)"
   ]
  },
  {
   "cell_type": "code",
   "execution_count": 38,
   "metadata": {
    "collapsed": false
   },
   "outputs": [
    {
     "data": {
      "text/html": [
       "<div>\n",
       "<table border=\"1\" class=\"dataframe\">\n",
       "  <thead>\n",
       "    <tr style=\"text-align: right;\">\n",
       "      <th></th>\n",
       "      <th>Name</th>\n",
       "      <th>Matcher</th>\n",
       "      <th>Num folds</th>\n",
       "      <th>Fold 1</th>\n",
       "      <th>Fold 2</th>\n",
       "      <th>Fold 3</th>\n",
       "      <th>Fold 4</th>\n",
       "      <th>Fold 5</th>\n",
       "      <th>Mean score</th>\n",
       "    </tr>\n",
       "  </thead>\n",
       "  <tbody>\n",
       "    <tr>\n",
       "      <th>0</th>\n",
       "      <td>DecisionTree_65200008118911021941</td>\n",
       "      <td>&lt;py_entitymatching.matcher.dtmatcher.DTMatcher object at 0x000000000BDC9860&gt;</td>\n",
       "      <td>5</td>\n",
       "      <td>1.0</td>\n",
       "      <td>0.972222</td>\n",
       "      <td>1.0</td>\n",
       "      <td>1.000000</td>\n",
       "      <td>0.940000</td>\n",
       "      <td>0.982444</td>\n",
       "    </tr>\n",
       "    <tr>\n",
       "      <th>1</th>\n",
       "      <td>RF</td>\n",
       "      <td>&lt;py_entitymatching.matcher.rfmatcher.RFMatcher object at 0x000000000BDC9940&gt;</td>\n",
       "      <td>5</td>\n",
       "      <td>1.0</td>\n",
       "      <td>0.972222</td>\n",
       "      <td>1.0</td>\n",
       "      <td>1.000000</td>\n",
       "      <td>1.000000</td>\n",
       "      <td>0.994444</td>\n",
       "    </tr>\n",
       "    <tr>\n",
       "      <th>2</th>\n",
       "      <td>SVM_65200008118911021941</td>\n",
       "      <td>&lt;py_entitymatching.matcher.svmmatcher.SVMMatcher object at 0x000000000BDC9898&gt;</td>\n",
       "      <td>5</td>\n",
       "      <td>1.0</td>\n",
       "      <td>1.000000</td>\n",
       "      <td>1.0</td>\n",
       "      <td>0.973684</td>\n",
       "      <td>1.000000</td>\n",
       "      <td>0.994737</td>\n",
       "    </tr>\n",
       "    <tr>\n",
       "      <th>3</th>\n",
       "      <td>NB</td>\n",
       "      <td>&lt;py_entitymatching.matcher.nbmatcher.NBMatcher object at 0x000000000BEC6240&gt;</td>\n",
       "      <td>5</td>\n",
       "      <td>1.0</td>\n",
       "      <td>0.972222</td>\n",
       "      <td>1.0</td>\n",
       "      <td>1.000000</td>\n",
       "      <td>1.000000</td>\n",
       "      <td>0.994444</td>\n",
       "    </tr>\n",
       "    <tr>\n",
       "      <th>4</th>\n",
       "      <td>LogReg</td>\n",
       "      <td>&lt;py_entitymatching.matcher.logregmatcher.LogRegMatcher object at 0x000000000BDC99E8&gt;</td>\n",
       "      <td>5</td>\n",
       "      <td>1.0</td>\n",
       "      <td>1.000000</td>\n",
       "      <td>1.0</td>\n",
       "      <td>0.952381</td>\n",
       "      <td>0.979167</td>\n",
       "      <td>0.986310</td>\n",
       "    </tr>\n",
       "    <tr>\n",
       "      <th>5</th>\n",
       "      <td>LinReg</td>\n",
       "      <td>&lt;py_entitymatching.matcher.linregmatcher.LinRegMatcher object at 0x000000000BDC9A90&gt;</td>\n",
       "      <td>5</td>\n",
       "      <td>1.0</td>\n",
       "      <td>1.000000</td>\n",
       "      <td>1.0</td>\n",
       "      <td>1.000000</td>\n",
       "      <td>1.000000</td>\n",
       "      <td>1.000000</td>\n",
       "    </tr>\n",
       "  </tbody>\n",
       "</table>\n",
       "</div>"
      ],
      "text/plain": [
       "                                Name  \\\n",
       "0  DecisionTree_65200008118911021941   \n",
       "1                                 RF   \n",
       "2           SVM_65200008118911021941   \n",
       "3                                 NB   \n",
       "4                             LogReg   \n",
       "5                             LinReg   \n",
       "\n",
       "                                                                                Matcher  \\\n",
       "0          <py_entitymatching.matcher.dtmatcher.DTMatcher object at 0x000000000BDC9860>   \n",
       "1          <py_entitymatching.matcher.rfmatcher.RFMatcher object at 0x000000000BDC9940>   \n",
       "2        <py_entitymatching.matcher.svmmatcher.SVMMatcher object at 0x000000000BDC9898>   \n",
       "3          <py_entitymatching.matcher.nbmatcher.NBMatcher object at 0x000000000BEC6240>   \n",
       "4  <py_entitymatching.matcher.logregmatcher.LogRegMatcher object at 0x000000000BDC99E8>   \n",
       "5  <py_entitymatching.matcher.linregmatcher.LinRegMatcher object at 0x000000000BDC9A90>   \n",
       "\n",
       "   Num folds  Fold 1    Fold 2  Fold 3    Fold 4    Fold 5  Mean score  \n",
       "0          5     1.0  0.972222     1.0  1.000000  0.940000    0.982444  \n",
       "1          5     1.0  0.972222     1.0  1.000000  1.000000    0.994444  \n",
       "2          5     1.0  1.000000     1.0  0.973684  1.000000    0.994737  \n",
       "3          5     1.0  0.972222     1.0  1.000000  1.000000    0.994444  \n",
       "4          5     1.0  1.000000     1.0  0.952381  0.979167    0.986310  \n",
       "5          5     1.0  1.000000     1.0  1.000000  1.000000    1.000000  "
      ]
     },
     "execution_count": 38,
     "metadata": {},
     "output_type": "execute_result"
    }
   ],
   "source": [
    "result_precision['cv_stats']"
   ]
  },
  {
   "cell_type": "code",
   "execution_count": 39,
   "metadata": {
    "collapsed": false
   },
   "outputs": [],
   "source": [
    "# select the best ML matcher using CV using recall\n",
    "result_recall = em.select_matcher([dt, rf, svm, nb, lg, ln], table=I_feature_vectors, \n",
    "        exclude_attrs=['_id','ltable_id', 'rtable_id', 'Label'], \n",
    "        target_attr='Label', metric='recall', random_state=0)"
   ]
  },
  {
   "cell_type": "code",
   "execution_count": 40,
   "metadata": {
    "collapsed": false
   },
   "outputs": [
    {
     "data": {
      "text/html": [
       "<div>\n",
       "<table border=\"1\" class=\"dataframe\">\n",
       "  <thead>\n",
       "    <tr style=\"text-align: right;\">\n",
       "      <th></th>\n",
       "      <th>Name</th>\n",
       "      <th>Matcher</th>\n",
       "      <th>Num folds</th>\n",
       "      <th>Fold 1</th>\n",
       "      <th>Fold 2</th>\n",
       "      <th>Fold 3</th>\n",
       "      <th>Fold 4</th>\n",
       "      <th>Fold 5</th>\n",
       "      <th>Mean score</th>\n",
       "    </tr>\n",
       "  </thead>\n",
       "  <tbody>\n",
       "    <tr>\n",
       "      <th>0</th>\n",
       "      <td>DecisionTree_65200008118911021941</td>\n",
       "      <td>&lt;py_entitymatching.matcher.dtmatcher.DTMatcher object at 0x000000000BDC9860&gt;</td>\n",
       "      <td>5</td>\n",
       "      <td>1.000</td>\n",
       "      <td>0.972222</td>\n",
       "      <td>1.000000</td>\n",
       "      <td>1.000</td>\n",
       "      <td>1.000000</td>\n",
       "      <td>0.994444</td>\n",
       "    </tr>\n",
       "    <tr>\n",
       "      <th>1</th>\n",
       "      <td>RF</td>\n",
       "      <td>&lt;py_entitymatching.matcher.rfmatcher.RFMatcher object at 0x000000000BDC9940&gt;</td>\n",
       "      <td>5</td>\n",
       "      <td>1.000</td>\n",
       "      <td>0.972222</td>\n",
       "      <td>1.000000</td>\n",
       "      <td>1.000</td>\n",
       "      <td>1.000000</td>\n",
       "      <td>0.994444</td>\n",
       "    </tr>\n",
       "    <tr>\n",
       "      <th>2</th>\n",
       "      <td>SVM_65200008118911021941</td>\n",
       "      <td>&lt;py_entitymatching.matcher.svmmatcher.SVMMatcher object at 0x000000000BDC9898&gt;</td>\n",
       "      <td>5</td>\n",
       "      <td>0.975</td>\n",
       "      <td>0.888889</td>\n",
       "      <td>0.939394</td>\n",
       "      <td>0.925</td>\n",
       "      <td>0.872340</td>\n",
       "      <td>0.920125</td>\n",
       "    </tr>\n",
       "    <tr>\n",
       "      <th>3</th>\n",
       "      <td>NB</td>\n",
       "      <td>&lt;py_entitymatching.matcher.nbmatcher.NBMatcher object at 0x000000000BEC6240&gt;</td>\n",
       "      <td>5</td>\n",
       "      <td>0.975</td>\n",
       "      <td>0.972222</td>\n",
       "      <td>1.000000</td>\n",
       "      <td>1.000</td>\n",
       "      <td>0.978723</td>\n",
       "      <td>0.985189</td>\n",
       "    </tr>\n",
       "    <tr>\n",
       "      <th>4</th>\n",
       "      <td>LogReg</td>\n",
       "      <td>&lt;py_entitymatching.matcher.logregmatcher.LogRegMatcher object at 0x000000000BDC99E8&gt;</td>\n",
       "      <td>5</td>\n",
       "      <td>0.975</td>\n",
       "      <td>1.000000</td>\n",
       "      <td>1.000000</td>\n",
       "      <td>1.000</td>\n",
       "      <td>1.000000</td>\n",
       "      <td>0.995000</td>\n",
       "    </tr>\n",
       "    <tr>\n",
       "      <th>5</th>\n",
       "      <td>LinReg</td>\n",
       "      <td>&lt;py_entitymatching.matcher.linregmatcher.LinRegMatcher object at 0x000000000BDC9A90&gt;</td>\n",
       "      <td>5</td>\n",
       "      <td>0.975</td>\n",
       "      <td>0.972222</td>\n",
       "      <td>0.939394</td>\n",
       "      <td>0.950</td>\n",
       "      <td>0.978723</td>\n",
       "      <td>0.963068</td>\n",
       "    </tr>\n",
       "  </tbody>\n",
       "</table>\n",
       "</div>"
      ],
      "text/plain": [
       "                                Name  \\\n",
       "0  DecisionTree_65200008118911021941   \n",
       "1                                 RF   \n",
       "2           SVM_65200008118911021941   \n",
       "3                                 NB   \n",
       "4                             LogReg   \n",
       "5                             LinReg   \n",
       "\n",
       "                                                                                Matcher  \\\n",
       "0          <py_entitymatching.matcher.dtmatcher.DTMatcher object at 0x000000000BDC9860>   \n",
       "1          <py_entitymatching.matcher.rfmatcher.RFMatcher object at 0x000000000BDC9940>   \n",
       "2        <py_entitymatching.matcher.svmmatcher.SVMMatcher object at 0x000000000BDC9898>   \n",
       "3          <py_entitymatching.matcher.nbmatcher.NBMatcher object at 0x000000000BEC6240>   \n",
       "4  <py_entitymatching.matcher.logregmatcher.LogRegMatcher object at 0x000000000BDC99E8>   \n",
       "5  <py_entitymatching.matcher.linregmatcher.LinRegMatcher object at 0x000000000BDC9A90>   \n",
       "\n",
       "   Num folds  Fold 1    Fold 2    Fold 3  Fold 4    Fold 5  Mean score  \n",
       "0          5   1.000  0.972222  1.000000   1.000  1.000000    0.994444  \n",
       "1          5   1.000  0.972222  1.000000   1.000  1.000000    0.994444  \n",
       "2          5   0.975  0.888889  0.939394   0.925  0.872340    0.920125  \n",
       "3          5   0.975  0.972222  1.000000   1.000  0.978723    0.985189  \n",
       "4          5   0.975  1.000000  1.000000   1.000  1.000000    0.995000  \n",
       "5          5   0.975  0.972222  0.939394   0.950  0.978723    0.963068  "
      ]
     },
     "execution_count": 40,
     "metadata": {},
     "output_type": "execute_result"
    }
   ],
   "source": [
    "result_recall['cv_stats']"
   ]
  },
  {
   "cell_type": "code",
   "execution_count": 41,
   "metadata": {
    "collapsed": true
   },
   "outputs": [],
   "source": [
    "# select the best ML matcher using CV using F1\n",
    "result_f1 = em.select_matcher([dt, rf, svm, nb, lg, ln], table=I_feature_vectors, \n",
    "        exclude_attrs=['_id','ltable_id', 'rtable_id', 'Label'], \n",
    "        target_attr='Label', metric='f1', random_state=0)"
   ]
  },
  {
   "cell_type": "code",
   "execution_count": 42,
   "metadata": {
    "collapsed": false
   },
   "outputs": [
    {
     "data": {
      "text/html": [
       "<div>\n",
       "<table border=\"1\" class=\"dataframe\">\n",
       "  <thead>\n",
       "    <tr style=\"text-align: right;\">\n",
       "      <th></th>\n",
       "      <th>Name</th>\n",
       "      <th>Matcher</th>\n",
       "      <th>Num folds</th>\n",
       "      <th>Fold 1</th>\n",
       "      <th>Fold 2</th>\n",
       "      <th>Fold 3</th>\n",
       "      <th>Fold 4</th>\n",
       "      <th>Fold 5</th>\n",
       "      <th>Mean score</th>\n",
       "    </tr>\n",
       "  </thead>\n",
       "  <tbody>\n",
       "    <tr>\n",
       "      <th>0</th>\n",
       "      <td>DecisionTree_65200008118911021941</td>\n",
       "      <td>&lt;py_entitymatching.matcher.dtmatcher.DTMatcher object at 0x000000000BDC9860&gt;</td>\n",
       "      <td>5</td>\n",
       "      <td>1.000000</td>\n",
       "      <td>0.972222</td>\n",
       "      <td>1.00000</td>\n",
       "      <td>1.000000</td>\n",
       "      <td>0.969072</td>\n",
       "      <td>0.988259</td>\n",
       "    </tr>\n",
       "    <tr>\n",
       "      <th>1</th>\n",
       "      <td>RF</td>\n",
       "      <td>&lt;py_entitymatching.matcher.rfmatcher.RFMatcher object at 0x000000000BDC9940&gt;</td>\n",
       "      <td>5</td>\n",
       "      <td>1.000000</td>\n",
       "      <td>0.972222</td>\n",
       "      <td>1.00000</td>\n",
       "      <td>1.000000</td>\n",
       "      <td>1.000000</td>\n",
       "      <td>0.994444</td>\n",
       "    </tr>\n",
       "    <tr>\n",
       "      <th>2</th>\n",
       "      <td>SVM_65200008118911021941</td>\n",
       "      <td>&lt;py_entitymatching.matcher.svmmatcher.SVMMatcher object at 0x000000000BDC9898&gt;</td>\n",
       "      <td>5</td>\n",
       "      <td>0.987342</td>\n",
       "      <td>0.941176</td>\n",
       "      <td>0.96875</td>\n",
       "      <td>0.948718</td>\n",
       "      <td>0.931818</td>\n",
       "      <td>0.955561</td>\n",
       "    </tr>\n",
       "    <tr>\n",
       "      <th>3</th>\n",
       "      <td>NB</td>\n",
       "      <td>&lt;py_entitymatching.matcher.nbmatcher.NBMatcher object at 0x000000000BEC6240&gt;</td>\n",
       "      <td>5</td>\n",
       "      <td>0.987342</td>\n",
       "      <td>0.972222</td>\n",
       "      <td>1.00000</td>\n",
       "      <td>1.000000</td>\n",
       "      <td>0.989247</td>\n",
       "      <td>0.989762</td>\n",
       "    </tr>\n",
       "    <tr>\n",
       "      <th>4</th>\n",
       "      <td>LogReg</td>\n",
       "      <td>&lt;py_entitymatching.matcher.logregmatcher.LogRegMatcher object at 0x000000000BDC99E8&gt;</td>\n",
       "      <td>5</td>\n",
       "      <td>0.987342</td>\n",
       "      <td>1.000000</td>\n",
       "      <td>1.00000</td>\n",
       "      <td>0.975610</td>\n",
       "      <td>0.989474</td>\n",
       "      <td>0.990485</td>\n",
       "    </tr>\n",
       "    <tr>\n",
       "      <th>5</th>\n",
       "      <td>LinReg</td>\n",
       "      <td>&lt;py_entitymatching.matcher.linregmatcher.LinRegMatcher object at 0x000000000BDC9A90&gt;</td>\n",
       "      <td>5</td>\n",
       "      <td>0.987342</td>\n",
       "      <td>0.985915</td>\n",
       "      <td>0.96875</td>\n",
       "      <td>0.974359</td>\n",
       "      <td>0.989247</td>\n",
       "      <td>0.981123</td>\n",
       "    </tr>\n",
       "  </tbody>\n",
       "</table>\n",
       "</div>"
      ],
      "text/plain": [
       "                                Name  \\\n",
       "0  DecisionTree_65200008118911021941   \n",
       "1                                 RF   \n",
       "2           SVM_65200008118911021941   \n",
       "3                                 NB   \n",
       "4                             LogReg   \n",
       "5                             LinReg   \n",
       "\n",
       "                                                                                Matcher  \\\n",
       "0          <py_entitymatching.matcher.dtmatcher.DTMatcher object at 0x000000000BDC9860>   \n",
       "1          <py_entitymatching.matcher.rfmatcher.RFMatcher object at 0x000000000BDC9940>   \n",
       "2        <py_entitymatching.matcher.svmmatcher.SVMMatcher object at 0x000000000BDC9898>   \n",
       "3          <py_entitymatching.matcher.nbmatcher.NBMatcher object at 0x000000000BEC6240>   \n",
       "4  <py_entitymatching.matcher.logregmatcher.LogRegMatcher object at 0x000000000BDC99E8>   \n",
       "5  <py_entitymatching.matcher.linregmatcher.LinRegMatcher object at 0x000000000BDC9A90>   \n",
       "\n",
       "   Num folds    Fold 1    Fold 2   Fold 3    Fold 4    Fold 5  Mean score  \n",
       "0          5  1.000000  0.972222  1.00000  1.000000  0.969072    0.988259  \n",
       "1          5  1.000000  0.972222  1.00000  1.000000  1.000000    0.994444  \n",
       "2          5  0.987342  0.941176  0.96875  0.948718  0.931818    0.955561  \n",
       "3          5  0.987342  0.972222  1.00000  1.000000  0.989247    0.989762  \n",
       "4          5  0.987342  1.000000  1.00000  0.975610  0.989474    0.990485  \n",
       "5          5  0.987342  0.985915  0.96875  0.974359  0.989247    0.981123  "
      ]
     },
     "execution_count": 42,
     "metadata": {},
     "output_type": "execute_result"
    }
   ],
   "source": [
    "result_f1['cv_stats']"
   ]
  },
  {
   "cell_type": "code",
   "execution_count": 43,
   "metadata": {
    "collapsed": false
   },
   "outputs": [
    {
     "data": {
      "text/plain": [
       "<py_entitymatching.matcher.rfmatcher.RFMatcher at 0xbdc9940>"
      ]
     },
     "execution_count": 43,
     "metadata": {},
     "output_type": "execute_result"
    }
   ],
   "source": [
    "result_f1['selected_matcher']"
   ]
  },
  {
   "cell_type": "code",
   "execution_count": 44,
   "metadata": {
    "collapsed": false
   },
   "outputs": [],
   "source": [
    "# Further split the Development set into Training and set test for debugging\n",
    "devSetSplit = em.split_train_test(I_feature_vectors, train_proportion=0.6)\n",
    "A = devSetSplit['train']\n",
    "B = devSetSplit['test']"
   ]
  },
  {
   "cell_type": "markdown",
   "metadata": {},
   "source": [
    "Based on the evaluation results, RF is the best matcher. "
   ]
  },
  {
   "cell_type": "code",
   "execution_count": 45,
   "metadata": {
    "collapsed": false
   },
   "outputs": [],
   "source": [
    "#The following command was used for debugging\n",
    "#em.vis_debug_rf(rf, A, B, exclude_attrs=['_id', 'ltable_id', 'rtable_id','Label'], target_attr='Label')"
   ]
  },
  {
   "cell_type": "code",
   "execution_count": 46,
   "metadata": {
    "collapsed": false
   },
   "outputs": [
    {
     "name": "stdout",
     "output_type": "stream",
     "text": [
      "Precision : 100.0% (79/79)\n",
      "Recall : 98.75% (79/80)\n",
      "F1 : 99.37%\n",
      "False positives : 0 (out of 79 positive predictions)\n",
      "False negatives : 1 (out of 229 negative predictions)\n"
     ]
    }
   ],
   "source": [
    "# Training rf on split development set(A) and testing it on split test set(B)\n",
    "\n",
    "rf.fit(table=A, exclude_attrs=['_id','ltable_id', 'rtable_id', 'Label'], target_attr='Label')\n",
    "\n",
    "predicted_values = rf.predict(table=B, exclude_attrs=['_id','ltable_id', 'rtable_id', 'Label'],\n",
    "              append=True, target_attr='predicted', inplace=False)\n",
    "\n",
    "eval_result = em.eval_matches(predicted_values, 'Label', 'predicted')\n",
    "em.print_eval_summary(eval_result)"
   ]
  },
  {
   "cell_type": "markdown",
   "metadata": {},
   "source": [
    "RF gives the best result, hence choosing RF as the best matcher."
   ]
  },
  {
   "cell_type": "markdown",
   "metadata": {},
   "source": [
    "## Training Data on I and Testing on J"
   ]
  },
  {
   "cell_type": "markdown",
   "metadata": {},
   "source": [
    "1. Train the Machine Learning Algorithm(DT, RF, SVM, NB, LogRegression, Linear Regression) using I (Development Set)\n",
    "2. Test DT using J(Test Set)\n",
    "3. Evaluate Precision, Recall and F1 score "
   ]
  },
  {
   "cell_type": "markdown",
   "metadata": {},
   "source": [
    "I. Decision Tree Learning"
   ]
  },
  {
   "cell_type": "code",
   "execution_count": 47,
   "metadata": {
    "collapsed": false
   },
   "outputs": [
    {
     "name": "stdout",
     "output_type": "stream",
     "text": [
      "Precision : 100.0% (77/77)\n",
      "Recall : 98.72% (77/78)\n",
      "F1 : 99.35%\n",
      "False positives : 0 (out of 77 positive predictions)\n",
      "False negatives : 1 (out of 253 negative predictions)\n"
     ]
    }
   ],
   "source": [
    "# 1. Train Decision Tree using I (Development Set)\n",
    "dt.fit(table=I_feature_vectors, exclude_attrs=['_id','ltable_id', 'rtable_id', 'Label'], target_attr='Label')\n",
    "\n",
    "#2. Test DT using J(Test Set)\n",
    "predicted_values = dt.predict(table=J_feature_vectors, exclude_attrs=['_id','ltable_id', 'rtable_id', 'Label'],\n",
    "              append=True, target_attr='predicted', inplace=False)\n",
    "\n",
    "#3. Evaluate Precision, Recall and F1 score \n",
    "eval_result_dt = em.eval_matches(predicted_values, 'Label', 'predicted')\n",
    "\n",
    "#4. Display the results\n",
    "em.print_eval_summary(eval_result_dt)"
   ]
  },
  {
   "cell_type": "markdown",
   "metadata": {},
   "source": [
    "II. Random Forest Learning"
   ]
  },
  {
   "cell_type": "code",
   "execution_count": 48,
   "metadata": {
    "collapsed": false
   },
   "outputs": [
    {
     "name": "stdout",
     "output_type": "stream",
     "text": [
      "Precision : 100.0% (77/77)\n",
      "Recall : 98.72% (77/78)\n",
      "F1 : 99.35%\n",
      "False positives : 0 (out of 77 positive predictions)\n",
      "False negatives : 1 (out of 253 negative predictions)\n"
     ]
    }
   ],
   "source": [
    "# 1. Train Random Forest using I (Development Set)\n",
    "rf.fit(table=I_feature_vectors, exclude_attrs=['_id','ltable_id', 'rtable_id', 'Label'], target_attr='Label')\n",
    "\n",
    "#2. Test DT using J(Test Set)\n",
    "predicted_values = rf.predict(table=J_feature_vectors, exclude_attrs=['_id','ltable_id', 'rtable_id', 'Label'],\n",
    "              append=True, target_attr='predicted', inplace=False)\n",
    "\n",
    "#3. Evaluate Precision, Recall and F1 score \n",
    "eval_result_rf = em.eval_matches(predicted_values, 'Label', 'predicted')\n",
    "\n",
    "#4. Display the results\n",
    "em.print_eval_summary(eval_result_rf)"
   ]
  },
  {
   "cell_type": "markdown",
   "metadata": {},
   "source": [
    "III. SVM Learning"
   ]
  },
  {
   "cell_type": "code",
   "execution_count": 49,
   "metadata": {
    "collapsed": false
   },
   "outputs": [
    {
     "name": "stdout",
     "output_type": "stream",
     "text": [
      "Precision : 100.0% (74/74)\n",
      "Recall : 94.87% (74/78)\n",
      "F1 : 97.37%\n",
      "False positives : 0 (out of 74 positive predictions)\n",
      "False negatives : 4 (out of 256 negative predictions)\n"
     ]
    }
   ],
   "source": [
    "# 1. Train SVM using I (Development Set)\n",
    "svm.fit(table=I_feature_vectors, exclude_attrs=['_id','ltable_id', 'rtable_id', 'Label'], target_attr='Label')\n",
    "\n",
    "#2. Test DT using J(Test Set)\n",
    "predicted_values = svm.predict(table=J_feature_vectors, exclude_attrs=['_id','ltable_id', 'rtable_id', 'Label'],\n",
    "              append=True, target_attr='predicted', inplace=False)\n",
    "\n",
    "#3. Evaluate Precision, Recall and F1 score \n",
    "eval_result_svm = em.eval_matches(predicted_values, 'Label', 'predicted')\n",
    "\n",
    "#4. Display the results\n",
    "em.print_eval_summary(eval_result_svm)"
   ]
  },
  {
   "cell_type": "markdown",
   "metadata": {},
   "source": [
    "IV. Naive Bayes Learning"
   ]
  },
  {
   "cell_type": "code",
   "execution_count": 50,
   "metadata": {
    "collapsed": false
   },
   "outputs": [
    {
     "name": "stdout",
     "output_type": "stream",
     "text": [
      "Precision : 100.0% (77/77)\n",
      "Recall : 98.72% (77/78)\n",
      "F1 : 99.35%\n",
      "False positives : 0 (out of 77 positive predictions)\n",
      "False negatives : 1 (out of 253 negative predictions)\n"
     ]
    }
   ],
   "source": [
    "# 1. Train Naive Bayes using I (Development Set)\n",
    "nb.fit(table=I_feature_vectors, exclude_attrs=['_id','ltable_id', 'rtable_id', 'Label'], target_attr='Label')\n",
    "\n",
    "#2. Test Naive Bayes using J(Test Set)\n",
    "predicted_values = nb.predict(table=J_feature_vectors, exclude_attrs=['_id','ltable_id', 'rtable_id', 'Label'],\n",
    "              append=True, target_attr='predicted', inplace=False)\n",
    "\n",
    "#3. Evaluate Precision, Recall and F1 score \n",
    "eval_result_nb = em.eval_matches(predicted_values, 'Label', 'predicted')\n",
    "\n",
    "#4. Display the results\n",
    "em.print_eval_summary(eval_result_nb)"
   ]
  },
  {
   "cell_type": "markdown",
   "metadata": {},
   "source": [
    "V. Logistic Regression Learning"
   ]
  },
  {
   "cell_type": "code",
   "execution_count": 51,
   "metadata": {
    "collapsed": false
   },
   "outputs": [
    {
     "name": "stdout",
     "output_type": "stream",
     "text": [
      "Precision : 100.0% (77/77)\n",
      "Recall : 98.72% (77/78)\n",
      "F1 : 99.35%\n",
      "False positives : 0 (out of 77 positive predictions)\n",
      "False negatives : 1 (out of 253 negative predictions)\n"
     ]
    }
   ],
   "source": [
    "# 1. Train Logistic Regression using I (Development Set)\n",
    "lg.fit(table=I_feature_vectors, exclude_attrs=['_id','ltable_id', 'rtable_id', 'Label'], target_attr='Label')\n",
    "\n",
    "#2. Test Logistic Regression using J(Test Set)\n",
    "predicted_values = lg.predict(table=J_feature_vectors, exclude_attrs=['_id','ltable_id', 'rtable_id', 'Label'],\n",
    "              append=True, target_attr='predicted', inplace=False)\n",
    "\n",
    "#3. Evaluate Precision, Recall and F1 score \n",
    "eval_result_lg = em.eval_matches(predicted_values, 'Label', 'predicted')\n",
    "\n",
    "#4. Display the results\n",
    "em.print_eval_summary(eval_result_lg)"
   ]
  },
  {
   "cell_type": "markdown",
   "metadata": {},
   "source": [
    "VI. Linear Regression Learning"
   ]
  },
  {
   "cell_type": "code",
   "execution_count": 52,
   "metadata": {
    "collapsed": false
   },
   "outputs": [
    {
     "name": "stdout",
     "output_type": "stream",
     "text": [
      "Precision : 100.0% (73/73)\n",
      "Recall : 93.59% (73/78)\n",
      "F1 : 96.69%\n",
      "False positives : 0 (out of 73 positive predictions)\n",
      "False negatives : 5 (out of 257 negative predictions)\n"
     ]
    }
   ],
   "source": [
    "# 1. Train Linear Regression using I (Development Set)\n",
    "ln.fit(table=I_feature_vectors, exclude_attrs=['_id','ltable_id', 'rtable_id', 'Label'], target_attr='Label')\n",
    "\n",
    "#2. Test Linear Regression using J(Test Set)\n",
    "predicted_values = ln.predict(table=J_feature_vectors, exclude_attrs=['_id','ltable_id', 'rtable_id', 'Label'],\n",
    "              append=True, target_attr='predicted', inplace=False)\n",
    "\n",
    "#3. Evaluate Precision, Recall and F1 score \n",
    "eval_result_ln = em.eval_matches(predicted_values, 'Label', 'predicted')\n",
    "\n",
    "#4. Display the results\n",
    "em.print_eval_summary(eval_result_ln)"
   ]
  },
  {
   "cell_type": "markdown",
   "metadata": {},
   "source": [
    "# # Comparing the precision, recall and F1 score of all learning methods - "
   ]
  },
  {
   "cell_type": "markdown",
   "metadata": {},
   "source": [
    "DT, RF and NB have same results in this case.\n",
    "However, we ran this test a number of time and found RF to be slightly better in most of the cases.\n",
    "Hence, we choose RF to be the best matcher"
   ]
  },
  {
   "cell_type": "code",
   "execution_count": 54,
   "metadata": {
    "collapsed": false
   },
   "outputs": [
    {
     "name": "stdout",
     "output_type": "stream",
     "text": [
      "Precision : 100.0% (77/77)\n",
      "Recall : 98.72% (77/78)\n",
      "F1 : 99.35%\n",
      "False positives : 0 (out of 77 positive predictions)\n",
      "False negatives : 1 (out of 253 negative predictions)\n"
     ]
    }
   ],
   "source": [
    "# Printing the evaluation result for \"Random Forest\" matcher\n",
    "em.print_eval_summary(eval_result_rf)"
   ]
  }
 ],
 "metadata": {
  "kernelspec": {
   "display_name": "Python 2",
   "language": "python",
   "name": "python2"
  },
  "language_info": {
   "codemirror_mode": {
    "name": "ipython",
    "version": 2
   },
   "file_extension": ".py",
   "mimetype": "text/x-python",
   "name": "python",
   "nbconvert_exporter": "python",
   "pygments_lexer": "ipython2",
   "version": "2.7.13"
  }
 },
 "nbformat": 4,
 "nbformat_minor": 2
}
