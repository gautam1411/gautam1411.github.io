{
 "cells": [
  {
   "cell_type": "code",
   "execution_count": 1,
   "metadata": {
    "collapsed": true
   },
   "outputs": [],
   "source": [
    "import py_entitymatching as em #Import megallan entity matching library"
   ]
  },
  {
   "cell_type": "code",
   "execution_count": 5,
   "metadata": {
    "collapsed": false
   },
   "outputs": [],
   "source": [
    "yelp = em.read_csv_metadata(\"yelp_2.csv\",key=\"id\")\n",
    "zomato = em.read_csv_metadata(\"zomato_2.csv\",key=\"id\")"
   ]
  },
  {
   "cell_type": "code",
   "execution_count": 3,
   "metadata": {
    "collapsed": false
   },
   "outputs": [
    {
     "name": "stdout",
     "output_type": "stream",
     "text": [
      "id\n",
      "Name\n",
      "Phone\n",
      "Zipcode\n",
      "State\n",
      "City\n",
      "Address\n",
      "Delivery\n",
      "Takeout\n",
      "Outdoor_seating\n"
     ]
    }
   ],
   "source": [
    "# Yelp table schema\n",
    "for attr in yelp.keys():\n",
    "    print attr"
   ]
  },
  {
   "cell_type": "code",
   "execution_count": 4,
   "metadata": {
    "collapsed": false
   },
   "outputs": [
    {
     "name": "stdout",
     "output_type": "stream",
     "text": [
      "id\n",
      "Restaurant Name\n",
      "Phone\n",
      "Zipcode\n",
      "State\n",
      "City\n",
      "Address\n",
      "Delivery\n",
      "Takeout\n",
      "Outdoor seating\n"
     ]
    }
   ],
   "source": [
    "# Zomato table schema\n",
    "for attr in zomato.keys():\n",
    "    print attr"
   ]
  },
  {
   "cell_type": "code",
   "execution_count": null,
   "metadata": {
    "collapsed": true
   },
   "outputs": [],
   "source": [
    "pairs = []\n",
    "min_distance = 100\n",
    "for yelp_attr in yelp.keys():\n",
    "    for zomato_attr in zomato.keys():\n",
    "        selected_attributed = "
   ]
  }
 ],
 "metadata": {
  "kernelspec": {
   "display_name": "Python 2",
   "language": "python",
   "name": "python2"
  },
  "language_info": {
   "codemirror_mode": {
    "name": "ipython",
    "version": 2
   },
   "file_extension": ".py",
   "mimetype": "text/x-python",
   "name": "python",
   "nbconvert_exporter": "python",
   "pygments_lexer": "ipython2",
   "version": "2.7.13"
  }
 },
 "nbformat": 4,
 "nbformat_minor": 2
}
