{
 "cells": [
  {
   "cell_type": "code",
   "execution_count": 1,
   "metadata": {
    "collapsed": false
   },
   "outputs": [],
   "source": [
    "import py_entitymatching as em #Import megallan entity matching library\n",
    "import distance"
   ]
  },
  {
   "cell_type": "code",
   "execution_count": 7,
   "metadata": {
    "collapsed": false
   },
   "outputs": [],
   "source": [
    "# We have modified the schema of yelp and zomato for schema matching task.\n",
    "yelp = em.read_csv_metadata(\"yelp_2.csv\",key=\"id\")\n",
    "zomato = em.read_csv_metadata(\"zomato_2.csv\",key=\"id\")"
   ]
  },
  {
   "cell_type": "code",
   "execution_count": 3,
   "metadata": {
    "collapsed": false
   },
   "outputs": [
    {
     "name": "stdout",
     "output_type": "stream",
     "text": [
      "id\n",
      "Name\n",
      "Phone Number\n",
      "Zipcode\n",
      "State\n",
      "City\n",
      "Address\n",
      "Has Delivery\n",
      "Has Takeout\n",
      "Outdoor_seating\n"
     ]
    }
   ],
   "source": [
    "# Yelp table schema\n",
    "for attr in yelp.keys():\n",
    "    print attr"
   ]
  },
  {
   "cell_type": "code",
   "execution_count": 4,
   "metadata": {
    "collapsed": false
   },
   "outputs": [
    {
     "name": "stdout",
     "output_type": "stream",
     "text": [
      "id\n",
      "Restaurant Name\n",
      "Contact Number\n",
      "Zipcode\n",
      "State\n",
      "City\n",
      "Address\n",
      "Delivery\n",
      "Takeout\n",
      "Outdoor seating\n"
     ]
    }
   ],
   "source": [
    "# Zomato table schema\n",
    "for attr in zomato.keys():\n",
    "    print attr"
   ]
  },
  {
   "cell_type": "code",
   "execution_count": 5,
   "metadata": {
    "collapsed": false
   },
   "outputs": [],
   "source": [
    "# Carry out Schema Matching based on Jaccard distance and generate matching attribute pairs\n",
    "pairs = []\n",
    "min_distance = 100\n",
    "for yelp_attr in yelp.keys():\n",
    "    for zomato_attr in zomato.keys():\n",
    "        dist = distance.jaccard(yelp_attr,zomato_attr)\n",
    "        if dist < min_distance:\n",
    "            min_distance = dist\n",
    "            selected_attribute = zomato_attr\n",
    "    pairs.append([yelp_attr,selected_attribute])\n",
    "    min_distance = 100"
   ]
  },
  {
   "cell_type": "code",
   "execution_count": 6,
   "metadata": {
    "collapsed": false
   },
   "outputs": [
    {
     "data": {
      "text/plain": [
       "[['id', 'id'],\n",
       " ['Name', 'Restaurant Name'],\n",
       " ['Phone Number', 'Contact Number'],\n",
       " ['Zipcode', 'Zipcode'],\n",
       " ['State', 'State'],\n",
       " ['City', 'City'],\n",
       " ['Address', 'Address'],\n",
       " ['Has Delivery', 'Delivery'],\n",
       " ['Has Takeout', 'Takeout'],\n",
       " ['Outdoor_seating', 'Outdoor seating']]"
      ]
     },
     "execution_count": 6,
     "metadata": {},
     "output_type": "execute_result"
    }
   ],
   "source": [
    "# Display the matched attribute pairs\n",
    "pairs"
   ]
  }
 ],
 "metadata": {
  "kernelspec": {
   "display_name": "Python 2",
   "language": "python",
   "name": "python2"
  },
  "language_info": {
   "codemirror_mode": {
    "name": "ipython",
    "version": 2
   },
   "file_extension": ".py",
   "mimetype": "text/x-python",
   "name": "python",
   "nbconvert_exporter": "python",
   "pygments_lexer": "ipython2",
   "version": "2.7.13"
  }
 },
 "nbformat": 4,
 "nbformat_minor": 2
}
