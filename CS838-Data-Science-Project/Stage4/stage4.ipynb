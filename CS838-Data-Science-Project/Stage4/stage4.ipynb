{
 "cells": [
  {
   "cell_type": "code",
   "execution_count": 35,
   "metadata": {
    "collapsed": true
   },
   "outputs": [],
   "source": [
    "import py_entitymatching as em #Import megallan entity matching library"
   ]
  },
  {
   "cell_type": "code",
   "execution_count": 36,
   "metadata": {
    "collapsed": true
   },
   "outputs": [],
   "source": [
    "import warnings\n",
    "warnings.filterwarnings('ignore')"
   ]
  },
  {
   "cell_type": "code",
   "execution_count": 37,
   "metadata": {
    "collapsed": true
   },
   "outputs": [],
   "source": [
    "def phone_match(str1,str2):\n",
    "    if type(str1) is float and type(str2) is float:\n",
    "        if math.isnan(str1) and math.isnan(str2):\n",
    "            return True\n",
    "    elif type(str1) is float:\n",
    "        if math.isnan(str1):\n",
    "            return False\n",
    "    elif type(str2) is float:\n",
    "        if math.isnan(str2):\n",
    "            return False\n",
    "    else:\n",
    "        stra = \"\"\n",
    "        strb = \"\"\n",
    "        for ch in str1:\n",
    "            if ch.isdigit():\n",
    "                stra += ch\n",
    "        for ch in str2:\n",
    "            if ch.isdigit():\n",
    "                strb += ch\n",
    "        if stra == strb:\n",
    "            return True\n",
    "        else:\n",
    "            return False"
   ]
  },
  {
   "cell_type": "code",
   "execution_count": 38,
   "metadata": {
    "collapsed": false
   },
   "outputs": [],
   "source": [
    "# Import the data set after blocking\n",
    "yelp = em.read_csv_metadata(\"yelp.csv\",key=\"id\")\n",
    "zomato = em.read_csv_metadata(\"zomato.csv\",key=\"id\")\n",
    "tagged_data = em.read_csv_metadata(\"tagged_dataset.csv\", key='_id', fk_ltable='ltable_id', fk_rtable='rtable_id',ltable=yelp, rtable=zomato)"
   ]
  },
  {
   "cell_type": "code",
   "execution_count": 39,
   "metadata": {
    "collapsed": false
   },
   "outputs": [
    {
     "data": {
      "text/plain": [
       "Index([u'key_id', u'_id', u'ltable_id', u'rtable_id', u'ltable_Name',\n",
       "       u'ltable_Phone', u'ltable_Zipcode', u'ltable_State', u'ltable_City',\n",
       "       u'ltable_Address', u'ltable_Delivery', u'ltable_Takeout',\n",
       "       u'ltable_Outdoor_seating', u'rtable_Name', u'rtable_Phone',\n",
       "       u'rtable_Zipcode', u'rtable_State', u'rtable_City', u'rtable_Address',\n",
       "       u'rtable_Delivery', u'rtable_Takeout', u'rtable_Outdoor_seating',\n",
       "       u'Label'],\n",
       "      dtype='object')"
      ]
     },
     "execution_count": 39,
     "metadata": {},
     "output_type": "execute_result"
    }
   ],
   "source": [
    "# Selecting a subset(S) of tuples from the labelled_dataset - downsampling the tagged data\n",
    "# We decided not to down sample the data but have this code over here for use, if required. \n",
    "# Hence, we are copying the tagged_data to downsampled table (S)\n",
    "S = em.sample_table(tagged_data, 900)\n",
    "S = tagged_data\n",
    "S.columns"
   ]
  },
  {
   "cell_type": "code",
   "execution_count": 40,
   "metadata": {
    "collapsed": false
   },
   "outputs": [
    {
     "data": {
      "text/plain": [
       "(1100, 23)"
      ]
     },
     "execution_count": 40,
     "metadata": {},
     "output_type": "execute_result"
    }
   ],
   "source": [
    "S.shape"
   ]
  },
  {
   "cell_type": "code",
   "execution_count": 41,
   "metadata": {
    "collapsed": false
   },
   "outputs": [],
   "source": [
    "# Split G into development (I) and evaluation (J)\n",
    "IJ = em.split_train_test(S, train_proportion=.70)\n",
    "I = IJ['train'] # Training Set\n",
    "J = IJ['test'] # Test Set "
   ]
  },
  {
   "cell_type": "code",
   "execution_count": 42,
   "metadata": {
    "collapsed": false
   },
   "outputs": [
    {
     "name": "stdout",
     "output_type": "stream",
     "text": [
      "Number of tuples in Development Set = 770\n",
      "Number of tuples in Evaluation Set = 330\n"
     ]
    }
   ],
   "source": [
    "print \"Number of tuples in Development Set =\", len(I)\n",
    "print \"Number of tuples in Evaluation Set =\", len(J)"
   ]
  },
  {
   "cell_type": "code",
   "execution_count": 43,
   "metadata": {
    "collapsed": true
   },
   "outputs": [],
   "source": [
    "# Commenting this code section, since not required at this point of time\n",
    "\n",
    "#Store Development Set\n",
    "#I.to_csv('DevelopmentSet.csv')\n",
    "#Store Evaluation Set\n",
    "#J.to_csv('EvaluationSet.csv')"
   ]
  },
  {
   "cell_type": "code",
   "execution_count": 44,
   "metadata": {
    "collapsed": true
   },
   "outputs": [],
   "source": [
    "# Using Random Forrest for Machine Learning as it was found to be the best matcher in the previous stage. \n",
    "rf = em.RFMatcher()"
   ]
  },
  {
   "cell_type": "code",
   "execution_count": 45,
   "metadata": {
    "collapsed": false
   },
   "outputs": [
    {
     "data": {
      "text/html": [
       "<div>\n",
       "<table border=\"1\" class=\"dataframe\">\n",
       "  <thead>\n",
       "    <tr style=\"text-align: right;\">\n",
       "      <th></th>\n",
       "      <th>feature_name</th>\n",
       "      <th>left_attribute</th>\n",
       "      <th>right_attribute</th>\n",
       "      <th>left_attr_tokenizer</th>\n",
       "      <th>right_attr_tokenizer</th>\n",
       "      <th>simfunction</th>\n",
       "      <th>function</th>\n",
       "      <th>function_source</th>\n",
       "      <th>is_auto_generated</th>\n",
       "    </tr>\n",
       "  </thead>\n",
       "  <tbody>\n",
       "    <tr>\n",
       "      <th>0</th>\n",
       "      <td>id_id_exm</td>\n",
       "      <td>id</td>\n",
       "      <td>id</td>\n",
       "      <td>None</td>\n",
       "      <td>None</td>\n",
       "      <td>exact_match</td>\n",
       "      <td>&lt;function id_id_exm at 0x000000000AB1B198&gt;</td>\n",
       "      <td>from py_entitymatching.feature.simfunctions import *\\nfrom py_entitymatching.feature.tokenizers ...</td>\n",
       "      <td>True</td>\n",
       "    </tr>\n",
       "  </tbody>\n",
       "</table>\n",
       "</div>"
      ],
      "text/plain": [
       "  feature_name left_attribute right_attribute left_attr_tokenizer  \\\n",
       "0    id_id_exm             id              id                None   \n",
       "\n",
       "  right_attr_tokenizer  simfunction  \\\n",
       "0                 None  exact_match   \n",
       "\n",
       "                                     function  \\\n",
       "0  <function id_id_exm at 0x000000000AB1B198>   \n",
       "\n",
       "                                                                                       function_source  \\\n",
       "0  from py_entitymatching.feature.simfunctions import *\\nfrom py_entitymatching.feature.tokenizers ...   \n",
       "\n",
       "  is_auto_generated  \n",
       "0              True  "
      ]
     },
     "execution_count": 45,
     "metadata": {},
     "output_type": "execute_result"
    }
   ],
   "source": [
    "# Generate features\n",
    "feature_set = em.get_features_for_matching(yelp, zomato)\n",
    "feature_set.head(1)"
   ]
  },
  {
   "cell_type": "code",
   "execution_count": 46,
   "metadata": {
    "collapsed": false
   },
   "outputs": [
    {
     "data": {
      "text/html": [
       "<div>\n",
       "<table border=\"1\" class=\"dataframe\">\n",
       "  <thead>\n",
       "    <tr style=\"text-align: right;\">\n",
       "      <th></th>\n",
       "      <th>_id</th>\n",
       "      <th>ltable_id</th>\n",
       "      <th>rtable_id</th>\n",
       "      <th>id_id_exm</th>\n",
       "      <th>id_id_anm</th>\n",
       "      <th>id_id_lev_dist</th>\n",
       "      <th>id_id_lev_sim</th>\n",
       "      <th>Name_Name_jac_qgm_3_qgm_3</th>\n",
       "      <th>Name_Name_cos_dlm_dc0_dlm_dc0</th>\n",
       "      <th>Name_Name_jac_dlm_dc0_dlm_dc0</th>\n",
       "      <th>...</th>\n",
       "      <th>Delivery_Delivery_lev_sim</th>\n",
       "      <th>Takeout_Takeout_exm</th>\n",
       "      <th>Takeout_Takeout_anm</th>\n",
       "      <th>Takeout_Takeout_lev_dist</th>\n",
       "      <th>Takeout_Takeout_lev_sim</th>\n",
       "      <th>Outdoor_seating_Outdoor_seating_exm</th>\n",
       "      <th>Outdoor_seating_Outdoor_seating_anm</th>\n",
       "      <th>Outdoor_seating_Outdoor_seating_lev_dist</th>\n",
       "      <th>Outdoor_seating_Outdoor_seating_lev_sim</th>\n",
       "      <th>Label</th>\n",
       "    </tr>\n",
       "  </thead>\n",
       "  <tbody>\n",
       "    <tr>\n",
       "      <th>930</th>\n",
       "      <td>375082</td>\n",
       "      <td>2474</td>\n",
       "      <td>1814</td>\n",
       "      <td>0</td>\n",
       "      <td>0.733226</td>\n",
       "      <td>3.0</td>\n",
       "      <td>0.25</td>\n",
       "      <td>1.0</td>\n",
       "      <td>1.0</td>\n",
       "      <td>1.0</td>\n",
       "      <td>...</td>\n",
       "      <td>1.0</td>\n",
       "      <td>1</td>\n",
       "      <td>1.0</td>\n",
       "      <td>0.0</td>\n",
       "      <td>1.0</td>\n",
       "      <td>0</td>\n",
       "      <td>0.0</td>\n",
       "      <td>1.0</td>\n",
       "      <td>0.0</td>\n",
       "      <td>1</td>\n",
       "    </tr>\n",
       "  </tbody>\n",
       "</table>\n",
       "<p>1 rows × 62 columns</p>\n",
       "</div>"
      ],
      "text/plain": [
       "        _id  ltable_id  rtable_id  id_id_exm  id_id_anm  id_id_lev_dist  \\\n",
       "930  375082       2474       1814          0   0.733226             3.0   \n",
       "\n",
       "     id_id_lev_sim  Name_Name_jac_qgm_3_qgm_3  Name_Name_cos_dlm_dc0_dlm_dc0  \\\n",
       "930           0.25                        1.0                            1.0   \n",
       "\n",
       "     Name_Name_jac_dlm_dc0_dlm_dc0  ...    Delivery_Delivery_lev_sim  \\\n",
       "930                            1.0  ...                          1.0   \n",
       "\n",
       "     Takeout_Takeout_exm  Takeout_Takeout_anm  Takeout_Takeout_lev_dist  \\\n",
       "930                    1                  1.0                       0.0   \n",
       "\n",
       "     Takeout_Takeout_lev_sim  Outdoor_seating_Outdoor_seating_exm  \\\n",
       "930                      1.0                                    0   \n",
       "\n",
       "     Outdoor_seating_Outdoor_seating_anm  \\\n",
       "930                                  0.0   \n",
       "\n",
       "     Outdoor_seating_Outdoor_seating_lev_dist  \\\n",
       "930                                       1.0   \n",
       "\n",
       "     Outdoor_seating_Outdoor_seating_lev_sim  Label  \n",
       "930                                      0.0      1  \n",
       "\n",
       "[1 rows x 62 columns]"
      ]
     },
     "execution_count": 46,
     "metadata": {},
     "output_type": "execute_result"
    }
   ],
   "source": [
    "# Get feature vector table for Development set\n",
    "I_feature_vectors = em.extract_feature_vecs(I, feature_table=feature_set, attrs_after='Label', show_progress=False)\n",
    "\n",
    "# Get feature vector table for Evaluation set\n",
    "J_feature_vectors = em.extract_feature_vecs(J, feature_table=feature_set, attrs_after='Label', show_progress=False)\n",
    "\n",
    "I_feature_vectors.head(1)"
   ]
  },
  {
   "cell_type": "code",
   "execution_count": 47,
   "metadata": {
    "collapsed": false
   },
   "outputs": [
    {
     "data": {
      "text/plain": [
       "Index([u'key_id', u'_id', u'ltable_id', u'rtable_id', u'ltable_Name',\n",
       "       u'ltable_Phone', u'ltable_Zipcode', u'ltable_State', u'ltable_City',\n",
       "       u'ltable_Address', u'ltable_Delivery', u'ltable_Takeout',\n",
       "       u'ltable_Outdoor_seating', u'rtable_Name', u'rtable_Phone',\n",
       "       u'rtable_Zipcode', u'rtable_State', u'rtable_City', u'rtable_Address',\n",
       "       u'rtable_Delivery', u'rtable_Takeout', u'rtable_Outdoor_seating',\n",
       "       u'Label'],\n",
       "      dtype='object')"
      ]
     },
     "execution_count": 47,
     "metadata": {},
     "output_type": "execute_result"
    }
   ],
   "source": [
    "# Fill the missing values with 0\n",
    "I_feature_vectors.fillna(value=0, inplace=True)\n",
    "tagged_data.columns"
   ]
  },
  {
   "cell_type": "code",
   "execution_count": 48,
   "metadata": {
    "collapsed": false
   },
   "outputs": [],
   "source": [
    "# Select the attrs. to be included in the feature vector table\n",
    "\n",
    "attrs_from_table = ['ltable_Name', 'ltable_Phone', 'ltable_Zipcode', 'ltable_State','ltable_City','ltable_Address',\n",
    "                    'ltable_Delivery','ltable_Takeout','ltable_Outdoor_seating',\n",
    "                    'rtable_Name', 'rtable_Phone', 'rtable_Zipcode', 'rtable_State','rtable_City','rtable_Address',\n",
    "                    'rtable_Delivery','rtable_Takeout','rtable_Outdoor_seating','Label'\n",
    "                    ]\n",
    "# Convert the cancidate set to feature vectors using the feature table\n",
    "L = em.extract_feature_vecs(S, feature_table=feature_set, attrs_before=attrs_from_table, show_progress=False)"
   ]
  },
  {
   "cell_type": "code",
   "execution_count": 49,
   "metadata": {
    "collapsed": true
   },
   "outputs": [],
   "source": [
    "# Get the attributes to be excluded while predicting \n",
    "attrs_to_be_excluded = []\n",
    "attrs_to_be_excluded.extend(['_id', 'ltable_id', 'rtable_id'])\n",
    "attrs_to_be_excluded.extend(attrs_from_table)"
   ]
  },
  {
   "cell_type": "code",
   "execution_count": 50,
   "metadata": {
    "collapsed": false
   },
   "outputs": [
    {
     "name": "stdout",
     "output_type": "stream",
     "text": [
      "Precision : 100.0% (272/272)\n",
      "Recall : 99.27% (272/274)\n",
      "F1 : 99.63%\n",
      "False positives : 0 (out of 272 positive predictions)\n",
      "False negatives : 2 (out of 828 negative predictions)\n"
     ]
    }
   ],
   "source": [
    "rf.fit(table=I_feature_vectors, exclude_attrs=['_id','ltable_id', 'rtable_id', 'Label'], target_attr='Label')\n",
    "\n",
    "# Predict the matches\n",
    "predictions = rf.predict(table=L, exclude_attrs=attrs_to_be_excluded,                          \n",
    "              append=True, target_attr='predicted', inplace=False)\n",
    "\n",
    "## Evaluate the result\n",
    "eval_result_rf = em.eval_matches(predictions, 'Label', 'predicted')\n",
    "em.print_eval_summary(eval_result_rf)"
   ]
  },
  {
   "cell_type": "code",
   "execution_count": 51,
   "metadata": {
    "collapsed": false
   },
   "outputs": [
    {
     "data": {
      "text/html": [
       "<div>\n",
       "<table border=\"1\" class=\"dataframe\">\n",
       "  <thead>\n",
       "    <tr style=\"text-align: right;\">\n",
       "      <th></th>\n",
       "      <th>_id</th>\n",
       "      <th>ltable_id</th>\n",
       "      <th>rtable_id</th>\n",
       "      <th>ltable_Name</th>\n",
       "      <th>ltable_Phone</th>\n",
       "      <th>ltable_Zipcode</th>\n",
       "      <th>ltable_State</th>\n",
       "      <th>ltable_City</th>\n",
       "      <th>ltable_Address</th>\n",
       "      <th>ltable_Delivery</th>\n",
       "      <th>...</th>\n",
       "      <th>Delivery_Delivery_lev_sim</th>\n",
       "      <th>Takeout_Takeout_exm</th>\n",
       "      <th>Takeout_Takeout_anm</th>\n",
       "      <th>Takeout_Takeout_lev_dist</th>\n",
       "      <th>Takeout_Takeout_lev_sim</th>\n",
       "      <th>Outdoor_seating_Outdoor_seating_exm</th>\n",
       "      <th>Outdoor_seating_Outdoor_seating_anm</th>\n",
       "      <th>Outdoor_seating_Outdoor_seating_lev_dist</th>\n",
       "      <th>Outdoor_seating_Outdoor_seating_lev_sim</th>\n",
       "      <th>predicted</th>\n",
       "    </tr>\n",
       "  </thead>\n",
       "  <tbody>\n",
       "    <tr>\n",
       "      <th>0</th>\n",
       "      <td>13168</td>\n",
       "      <td>661</td>\n",
       "      <td>55</td>\n",
       "      <td>Oasis Cafe</td>\n",
       "      <td>(312) 443-9534</td>\n",
       "      <td>60602</td>\n",
       "      <td>IL</td>\n",
       "      <td>Chicago</td>\n",
       "      <td>21 N Wabash Ave</td>\n",
       "      <td>0</td>\n",
       "      <td>...</td>\n",
       "      <td>1.0</td>\n",
       "      <td>1</td>\n",
       "      <td>1.0</td>\n",
       "      <td>0.0</td>\n",
       "      <td>1.0</td>\n",
       "      <td>1</td>\n",
       "      <td>0.0</td>\n",
       "      <td>0.0</td>\n",
       "      <td>1.0</td>\n",
       "      <td>0</td>\n",
       "    </tr>\n",
       "    <tr>\n",
       "      <th>1</th>\n",
       "      <td>414520</td>\n",
       "      <td>2640</td>\n",
       "      <td>2063</td>\n",
       "      <td>La Taqueria</td>\n",
       "      <td>(415) 285-7117</td>\n",
       "      <td>94110</td>\n",
       "      <td>CA</td>\n",
       "      <td>San Francisco</td>\n",
       "      <td>2889 Mission St</td>\n",
       "      <td>0</td>\n",
       "      <td>...</td>\n",
       "      <td>1.0</td>\n",
       "      <td>0</td>\n",
       "      <td>0.0</td>\n",
       "      <td>1.0</td>\n",
       "      <td>0.0</td>\n",
       "      <td>1</td>\n",
       "      <td>1.0</td>\n",
       "      <td>0.0</td>\n",
       "      <td>1.0</td>\n",
       "      <td>0</td>\n",
       "    </tr>\n",
       "    <tr>\n",
       "      <th>2</th>\n",
       "      <td>414500</td>\n",
       "      <td>2491</td>\n",
       "      <td>2063</td>\n",
       "      <td>El Farolito</td>\n",
       "      <td>(415) 824-7877</td>\n",
       "      <td>94110</td>\n",
       "      <td>CA</td>\n",
       "      <td>San Francisco</td>\n",
       "      <td>2779 Mission St</td>\n",
       "      <td>0</td>\n",
       "      <td>...</td>\n",
       "      <td>1.0</td>\n",
       "      <td>0</td>\n",
       "      <td>0.0</td>\n",
       "      <td>1.0</td>\n",
       "      <td>0.0</td>\n",
       "      <td>0</td>\n",
       "      <td>0.0</td>\n",
       "      <td>1.0</td>\n",
       "      <td>0.0</td>\n",
       "      <td>0</td>\n",
       "    </tr>\n",
       "    <tr>\n",
       "      <th>3</th>\n",
       "      <td>414526</td>\n",
       "      <td>2659</td>\n",
       "      <td>2063</td>\n",
       "      <td>Taqueria Cancún</td>\n",
       "      <td>(415) 252-9560</td>\n",
       "      <td>94110</td>\n",
       "      <td>CA</td>\n",
       "      <td>San Francisco</td>\n",
       "      <td>2288 Mission St</td>\n",
       "      <td>0</td>\n",
       "      <td>...</td>\n",
       "      <td>1.0</td>\n",
       "      <td>0</td>\n",
       "      <td>0.0</td>\n",
       "      <td>1.0</td>\n",
       "      <td>0.0</td>\n",
       "      <td>0</td>\n",
       "      <td>0.0</td>\n",
       "      <td>1.0</td>\n",
       "      <td>0.0</td>\n",
       "      <td>0</td>\n",
       "    </tr>\n",
       "    <tr>\n",
       "      <th>4</th>\n",
       "      <td>414536</td>\n",
       "      <td>2764</td>\n",
       "      <td>2063</td>\n",
       "      <td>El Techo</td>\n",
       "      <td>(415) 550-6970</td>\n",
       "      <td>94110</td>\n",
       "      <td>CA</td>\n",
       "      <td>San Francisco</td>\n",
       "      <td>2518 Mission St</td>\n",
       "      <td>0</td>\n",
       "      <td>...</td>\n",
       "      <td>1.0</td>\n",
       "      <td>0</td>\n",
       "      <td>0.0</td>\n",
       "      <td>1.0</td>\n",
       "      <td>0.0</td>\n",
       "      <td>1</td>\n",
       "      <td>1.0</td>\n",
       "      <td>0.0</td>\n",
       "      <td>1.0</td>\n",
       "      <td>1</td>\n",
       "    </tr>\n",
       "  </tbody>\n",
       "</table>\n",
       "<p>5 rows × 81 columns</p>\n",
       "</div>"
      ],
      "text/plain": [
       "      _id  ltable_id  rtable_id      ltable_Name    ltable_Phone  \\\n",
       "0   13168        661         55       Oasis Cafe  (312) 443-9534   \n",
       "1  414520       2640       2063      La Taqueria  (415) 285-7117   \n",
       "2  414500       2491       2063      El Farolito  (415) 824-7877   \n",
       "3  414526       2659       2063  Taqueria Cancún  (415) 252-9560   \n",
       "4  414536       2764       2063         El Techo  (415) 550-6970   \n",
       "\n",
       "   ltable_Zipcode ltable_State    ltable_City   ltable_Address  \\\n",
       "0           60602           IL        Chicago  21 N Wabash Ave   \n",
       "1           94110           CA  San Francisco  2889 Mission St   \n",
       "2           94110           CA  San Francisco  2779 Mission St   \n",
       "3           94110           CA  San Francisco  2288 Mission St   \n",
       "4           94110           CA  San Francisco  2518 Mission St   \n",
       "\n",
       "   ltable_Delivery    ...      Delivery_Delivery_lev_sim  Takeout_Takeout_exm  \\\n",
       "0                0    ...                            1.0                    1   \n",
       "1                0    ...                            1.0                    0   \n",
       "2                0    ...                            1.0                    0   \n",
       "3                0    ...                            1.0                    0   \n",
       "4                0    ...                            1.0                    0   \n",
       "\n",
       "  Takeout_Takeout_anm Takeout_Takeout_lev_dist  Takeout_Takeout_lev_sim  \\\n",
       "0                 1.0                      0.0                      1.0   \n",
       "1                 0.0                      1.0                      0.0   \n",
       "2                 0.0                      1.0                      0.0   \n",
       "3                 0.0                      1.0                      0.0   \n",
       "4                 0.0                      1.0                      0.0   \n",
       "\n",
       "  Outdoor_seating_Outdoor_seating_exm Outdoor_seating_Outdoor_seating_anm  \\\n",
       "0                                   1                                 0.0   \n",
       "1                                   1                                 1.0   \n",
       "2                                   0                                 0.0   \n",
       "3                                   0                                 0.0   \n",
       "4                                   1                                 1.0   \n",
       "\n",
       "  Outdoor_seating_Outdoor_seating_lev_dist  \\\n",
       "0                                      0.0   \n",
       "1                                      0.0   \n",
       "2                                      1.0   \n",
       "3                                      1.0   \n",
       "4                                      0.0   \n",
       "\n",
       "   Outdoor_seating_Outdoor_seating_lev_sim  predicted  \n",
       "0                                      1.0          0  \n",
       "1                                      1.0          0  \n",
       "2                                      0.0          0  \n",
       "3                                      0.0          0  \n",
       "4                                      1.0          1  \n",
       "\n",
       "[5 rows x 81 columns]"
      ]
     },
     "execution_count": 51,
     "metadata": {},
     "output_type": "execute_result"
    }
   ],
   "source": [
    "predictions.head()"
   ]
  },
  {
   "cell_type": "code",
   "execution_count": 52,
   "metadata": {
    "collapsed": false
   },
   "outputs": [
    {
     "data": {
      "text/plain": [
       "(1100, 81)"
      ]
     },
     "execution_count": 52,
     "metadata": {},
     "output_type": "execute_result"
    }
   ],
   "source": [
    "predictions.shape"
   ]
  },
  {
   "cell_type": "code",
   "execution_count": 53,
   "metadata": {
    "collapsed": false
   },
   "outputs": [],
   "source": [
    "# Get the attributes to be projected out\n",
    "attrs_proj = []\n",
    "#attrs_proj.extend(['_id', 'ltable_id', 'rtable_id'])\n",
    "attrs_proj.extend(attrs_from_table)\n",
    "attrs_proj.append('predicted')\n",
    "\n",
    "# Project the attributes\n",
    "predictions = predictions[attrs_proj]"
   ]
  },
  {
   "cell_type": "code",
   "execution_count": 54,
   "metadata": {
    "collapsed": false
   },
   "outputs": [
    {
     "data": {
      "text/html": [
       "<div>\n",
       "<table border=\"1\" class=\"dataframe\">\n",
       "  <thead>\n",
       "    <tr style=\"text-align: right;\">\n",
       "      <th></th>\n",
       "      <th>ltable_Name</th>\n",
       "      <th>ltable_Phone</th>\n",
       "      <th>ltable_Zipcode</th>\n",
       "      <th>ltable_State</th>\n",
       "      <th>ltable_City</th>\n",
       "      <th>ltable_Address</th>\n",
       "      <th>ltable_Delivery</th>\n",
       "      <th>ltable_Takeout</th>\n",
       "      <th>ltable_Outdoor_seating</th>\n",
       "      <th>rtable_Name</th>\n",
       "      <th>rtable_Phone</th>\n",
       "      <th>rtable_Zipcode</th>\n",
       "      <th>rtable_State</th>\n",
       "      <th>rtable_City</th>\n",
       "      <th>rtable_Address</th>\n",
       "      <th>rtable_Delivery</th>\n",
       "      <th>rtable_Takeout</th>\n",
       "      <th>rtable_Outdoor_seating</th>\n",
       "      <th>Label</th>\n",
       "      <th>predicted</th>\n",
       "    </tr>\n",
       "  </thead>\n",
       "  <tbody>\n",
       "    <tr>\n",
       "      <th>0</th>\n",
       "      <td>Oasis Cafe</td>\n",
       "      <td>(312) 443-9534</td>\n",
       "      <td>60602</td>\n",
       "      <td>IL</td>\n",
       "      <td>Chicago</td>\n",
       "      <td>21 N Wabash Ave</td>\n",
       "      <td>0</td>\n",
       "      <td>1</td>\n",
       "      <td>0</td>\n",
       "      <td>Heaven on Seven</td>\n",
       "      <td>(312) 263-6443</td>\n",
       "      <td>60602</td>\n",
       "      <td>IL</td>\n",
       "      <td>Chicago</td>\n",
       "      <td>111 N Wabash Avenue Garland Building</td>\n",
       "      <td>0</td>\n",
       "      <td>1</td>\n",
       "      <td>0</td>\n",
       "      <td>0</td>\n",
       "      <td>0</td>\n",
       "    </tr>\n",
       "    <tr>\n",
       "      <th>1</th>\n",
       "      <td>La Taqueria</td>\n",
       "      <td>(415) 285-7117</td>\n",
       "      <td>94110</td>\n",
       "      <td>CA</td>\n",
       "      <td>San Francisco</td>\n",
       "      <td>2889 Mission St</td>\n",
       "      <td>0</td>\n",
       "      <td>1</td>\n",
       "      <td>1</td>\n",
       "      <td>El Techo de Lolinda</td>\n",
       "      <td>(415) 550-6970</td>\n",
       "      <td>94110</td>\n",
       "      <td>CA</td>\n",
       "      <td>San Francisco</td>\n",
       "      <td>2518 Mission District Street</td>\n",
       "      <td>0</td>\n",
       "      <td>0</td>\n",
       "      <td>1</td>\n",
       "      <td>0</td>\n",
       "      <td>0</td>\n",
       "    </tr>\n",
       "    <tr>\n",
       "      <th>2</th>\n",
       "      <td>El Farolito</td>\n",
       "      <td>(415) 824-7877</td>\n",
       "      <td>94110</td>\n",
       "      <td>CA</td>\n",
       "      <td>San Francisco</td>\n",
       "      <td>2779 Mission St</td>\n",
       "      <td>0</td>\n",
       "      <td>1</td>\n",
       "      <td>0</td>\n",
       "      <td>El Techo de Lolinda</td>\n",
       "      <td>(415) 550-6970</td>\n",
       "      <td>94110</td>\n",
       "      <td>CA</td>\n",
       "      <td>San Francisco</td>\n",
       "      <td>2518 Mission District Street</td>\n",
       "      <td>0</td>\n",
       "      <td>0</td>\n",
       "      <td>1</td>\n",
       "      <td>0</td>\n",
       "      <td>0</td>\n",
       "    </tr>\n",
       "    <tr>\n",
       "      <th>3</th>\n",
       "      <td>Taqueria Cancún</td>\n",
       "      <td>(415) 252-9560</td>\n",
       "      <td>94110</td>\n",
       "      <td>CA</td>\n",
       "      <td>San Francisco</td>\n",
       "      <td>2288 Mission St</td>\n",
       "      <td>0</td>\n",
       "      <td>1</td>\n",
       "      <td>0</td>\n",
       "      <td>El Techo de Lolinda</td>\n",
       "      <td>(415) 550-6970</td>\n",
       "      <td>94110</td>\n",
       "      <td>CA</td>\n",
       "      <td>San Francisco</td>\n",
       "      <td>2518 Mission District Street</td>\n",
       "      <td>0</td>\n",
       "      <td>0</td>\n",
       "      <td>1</td>\n",
       "      <td>0</td>\n",
       "      <td>0</td>\n",
       "    </tr>\n",
       "    <tr>\n",
       "      <th>4</th>\n",
       "      <td>El Techo</td>\n",
       "      <td>(415) 550-6970</td>\n",
       "      <td>94110</td>\n",
       "      <td>CA</td>\n",
       "      <td>San Francisco</td>\n",
       "      <td>2518 Mission St</td>\n",
       "      <td>0</td>\n",
       "      <td>1</td>\n",
       "      <td>1</td>\n",
       "      <td>El Techo de Lolinda</td>\n",
       "      <td>(415) 550-6970</td>\n",
       "      <td>94110</td>\n",
       "      <td>CA</td>\n",
       "      <td>San Francisco</td>\n",
       "      <td>2518 Mission District Street</td>\n",
       "      <td>0</td>\n",
       "      <td>0</td>\n",
       "      <td>1</td>\n",
       "      <td>1</td>\n",
       "      <td>1</td>\n",
       "    </tr>\n",
       "  </tbody>\n",
       "</table>\n",
       "</div>"
      ],
      "text/plain": [
       "       ltable_Name    ltable_Phone  ltable_Zipcode ltable_State  \\\n",
       "0       Oasis Cafe  (312) 443-9534           60602           IL   \n",
       "1      La Taqueria  (415) 285-7117           94110           CA   \n",
       "2      El Farolito  (415) 824-7877           94110           CA   \n",
       "3  Taqueria Cancún  (415) 252-9560           94110           CA   \n",
       "4         El Techo  (415) 550-6970           94110           CA   \n",
       "\n",
       "     ltable_City   ltable_Address  ltable_Delivery  ltable_Takeout  \\\n",
       "0        Chicago  21 N Wabash Ave                0               1   \n",
       "1  San Francisco  2889 Mission St                0               1   \n",
       "2  San Francisco  2779 Mission St                0               1   \n",
       "3  San Francisco  2288 Mission St                0               1   \n",
       "4  San Francisco  2518 Mission St                0               1   \n",
       "\n",
       "   ltable_Outdoor_seating          rtable_Name    rtable_Phone  \\\n",
       "0                       0      Heaven on Seven  (312) 263-6443   \n",
       "1                       1  El Techo de Lolinda  (415) 550-6970   \n",
       "2                       0  El Techo de Lolinda  (415) 550-6970   \n",
       "3                       0  El Techo de Lolinda  (415) 550-6970   \n",
       "4                       1  El Techo de Lolinda  (415) 550-6970   \n",
       "\n",
       "   rtable_Zipcode rtable_State    rtable_City  \\\n",
       "0           60602           IL        Chicago   \n",
       "1           94110           CA  San Francisco   \n",
       "2           94110           CA  San Francisco   \n",
       "3           94110           CA  San Francisco   \n",
       "4           94110           CA  San Francisco   \n",
       "\n",
       "                         rtable_Address  rtable_Delivery  rtable_Takeout  \\\n",
       "0  111 N Wabash Avenue Garland Building                0               1   \n",
       "1          2518 Mission District Street                0               0   \n",
       "2          2518 Mission District Street                0               0   \n",
       "3          2518 Mission District Street                0               0   \n",
       "4          2518 Mission District Street                0               0   \n",
       "\n",
       "   rtable_Outdoor_seating  Label  predicted  \n",
       "0                       0      0          0  \n",
       "1                       1      0          0  \n",
       "2                       1      0          0  \n",
       "3                       1      0          0  \n",
       "4                       1      1          1  "
      ]
     },
     "execution_count": 54,
     "metadata": {},
     "output_type": "execute_result"
    }
   ],
   "source": [
    "predictions.head()"
   ]
  },
  {
   "cell_type": "code",
   "execution_count": 55,
   "metadata": {
    "collapsed": false
   },
   "outputs": [
    {
     "data": {
      "text/plain": [
       "(1100, 20)"
      ]
     },
     "execution_count": 55,
     "metadata": {},
     "output_type": "execute_result"
    }
   ],
   "source": [
    "predictions.shape"
   ]
  },
  {
   "cell_type": "code",
   "execution_count": 56,
   "metadata": {
    "collapsed": true
   },
   "outputs": [],
   "source": [
    "predictions.to_csv(\"predictions.csv\")"
   ]
  },
  {
   "cell_type": "code",
   "execution_count": 57,
   "metadata": {
    "collapsed": false
   },
   "outputs": [
    {
     "data": {
      "text/html": [
       "<div>\n",
       "<table border=\"1\" class=\"dataframe\">\n",
       "  <thead>\n",
       "    <tr style=\"text-align: right;\">\n",
       "      <th></th>\n",
       "      <th>ltable_Name</th>\n",
       "      <th>ltable_Phone</th>\n",
       "      <th>ltable_Zipcode</th>\n",
       "      <th>ltable_State</th>\n",
       "      <th>ltable_City</th>\n",
       "      <th>ltable_Address</th>\n",
       "      <th>ltable_Delivery</th>\n",
       "      <th>ltable_Takeout</th>\n",
       "      <th>ltable_Outdoor_seating</th>\n",
       "      <th>rtable_Name</th>\n",
       "      <th>rtable_Phone</th>\n",
       "      <th>rtable_Zipcode</th>\n",
       "      <th>rtable_State</th>\n",
       "      <th>rtable_City</th>\n",
       "      <th>rtable_Address</th>\n",
       "      <th>rtable_Delivery</th>\n",
       "      <th>rtable_Takeout</th>\n",
       "      <th>rtable_Outdoor_seating</th>\n",
       "      <th>Label</th>\n",
       "      <th>predicted</th>\n",
       "    </tr>\n",
       "  </thead>\n",
       "  <tbody>\n",
       "    <tr>\n",
       "      <th>0</th>\n",
       "      <td>Oasis Cafe</td>\n",
       "      <td>(312) 443-9534</td>\n",
       "      <td>60602</td>\n",
       "      <td>IL</td>\n",
       "      <td>Chicago</td>\n",
       "      <td>21 N Wabash Ave</td>\n",
       "      <td>0</td>\n",
       "      <td>1</td>\n",
       "      <td>0</td>\n",
       "      <td>Heaven on Seven</td>\n",
       "      <td>(312) 263-6443</td>\n",
       "      <td>60602</td>\n",
       "      <td>IL</td>\n",
       "      <td>Chicago</td>\n",
       "      <td>111 N Wabash Avenue Garland Building</td>\n",
       "      <td>0</td>\n",
       "      <td>1</td>\n",
       "      <td>0</td>\n",
       "      <td>0</td>\n",
       "      <td>0</td>\n",
       "    </tr>\n",
       "  </tbody>\n",
       "</table>\n",
       "</div>"
      ],
      "text/plain": [
       "  ltable_Name    ltable_Phone  ltable_Zipcode ltable_State ltable_City  \\\n",
       "0  Oasis Cafe  (312) 443-9534           60602           IL     Chicago   \n",
       "\n",
       "    ltable_Address  ltable_Delivery  ltable_Takeout  ltable_Outdoor_seating  \\\n",
       "0  21 N Wabash Ave                0               1                       0   \n",
       "\n",
       "       rtable_Name    rtable_Phone  rtable_Zipcode rtable_State rtable_City  \\\n",
       "0  Heaven on Seven  (312) 263-6443           60602           IL     Chicago   \n",
       "\n",
       "                         rtable_Address  rtable_Delivery  rtable_Takeout  \\\n",
       "0  111 N Wabash Avenue Garland Building                0               1   \n",
       "\n",
       "   rtable_Outdoor_seating  Label  predicted  \n",
       "0                       0      0          0  "
      ]
     },
     "execution_count": 57,
     "metadata": {},
     "output_type": "execute_result"
    }
   ],
   "source": [
    "predictions.head(1)"
   ]
  },
  {
   "cell_type": "code",
   "execution_count": 58,
   "metadata": {
    "collapsed": true
   },
   "outputs": [],
   "source": [
    "# Add new columns in the table for the merged attributes\n",
    "\n",
    "predictions['restaurant_name'] = None\n",
    "predictions['phone'] = None\n",
    "predictions['zipcode'] = None\n",
    "predictions['state'] = None\n",
    "predictions['city'] = None\n",
    "predictions['address'] = None\n",
    "predictions['delivery'] = None\n",
    "predictions['takeout'] = None\n",
    "predictions['outdoor_seating'] = None"
   ]
  },
  {
   "cell_type": "code",
   "execution_count": 59,
   "metadata": {
    "collapsed": true
   },
   "outputs": [],
   "source": [
    "# Flushing the rows to CSV that contain matching tuples\n",
    "indexes_to_keep = set()\n",
    "index = 0\n",
    "\n",
    "for index in range(predictions.shape[0]):\n",
    "    tuple = predictions.iloc[index]\n",
    "    if tuple['predicted'] == 1:\n",
    "        indexes_to_keep.add(index)\n",
    "    index += 1\n",
    "sliced = predictions.take(list(indexes_to_keep))\n",
    "sliced.to_csv(\"before_merging.csv\") # Writing the resultant table to a CSV file."
   ]
  },
  {
   "cell_type": "markdown",
   "metadata": {},
   "source": [
    "## Schema Merging"
   ]
  },
  {
   "cell_type": "code",
   "execution_count": 60,
   "metadata": {
    "collapsed": false
   },
   "outputs": [],
   "source": [
    "indexes_to_keep = set()\n",
    "index = 0\n",
    "\n",
    "for index in range(predictions.shape[0]):\n",
    "    tuple = predictions.iloc[index]\n",
    "    if tuple['predicted'] == 1:\n",
    "        \n",
    "        # Merging the Names - \n",
    "        # Picking the one that has more length\n",
    "        if len(tuple['ltable_Name']) > len(tuple['rtable_Name']):\n",
    "            tuple['name'] = tuple['ltable_Name']\n",
    "        else:\n",
    "            tuple['name'] = tuple['rtable_Name']\n",
    "        \n",
    "        # Merging the Phone no - \n",
    "        phone1 = tuple['ltable_Phone']\n",
    "        phone2 = tuple['rtable_Phone']\n",
    "        if phone_match(phone1, phone2) is True: # When phone numbers are same\n",
    "            tuple['phone'] = phone1\n",
    "        else: # Case when phone nos are different. We keep both separated by comma.\n",
    "            tuple['phone'] = phone1+ \",\" + phone2\n",
    "        \n",
    "        # Merging the Zipcode - \n",
    "        # Since blocking was done based on exact match for ZipCode, picking the left table attribute value\n",
    "        tuple['zipcode'] = tuple['ltable_Zipcode']\n",
    "        \n",
    "        # Merging the State - \n",
    "        # Picking the left table attribute \n",
    "        tuple['state'] = tuple['ltable_State']\n",
    "        \n",
    "        # Merging the City -\n",
    "        # Picking the left table attribute\n",
    "        tuple['city'] = tuple['ltable_City']\n",
    "        \n",
    "        # Merging the Address\n",
    "        # Picking the one that has more length\n",
    "        if len(tuple['ltable_Address']) > len(tuple['rtable_Address']):\n",
    "            tuple['address'] = tuple['ltable_Address']\n",
    "        else:\n",
    "            tuple['address'] = tuple['rtable_Address']\n",
    "        \n",
    "        # Merging Delivery\n",
    "        # If the value of ltable and rtable attributes differ, push \"Unknown\"\n",
    "        # Else, use the left table attribute and push \"Yes\" for 1 and \"No\" for 0\n",
    "        if tuple['ltable_Delivery'] != tuple['rtable_Delivery']:\n",
    "            tuple['has_delivery'] = \"unknown\"\n",
    "        else:\n",
    "            if tuple['ltable_Delivery'] == 0:\n",
    "                tuple['delivery'] = \"No\"\n",
    "            else:\n",
    "                tuple['delivery'] = \"Yes\"\n",
    "                \n",
    "        # Merging Takeout\n",
    "        # If the value of ltable and rtable attributes differ, push \"Unknown\"\n",
    "        # Else, use the left table attribute and push \"Yes\" for 1 and \"No\" for 0\n",
    "        if tuple['ltable_Takeout'] != tuple['rtable_Takeout']:\n",
    "            tuple['takeout'] = \"unknown\"\n",
    "        else:\n",
    "            if tuple['ltable_Takeout'] == 0:\n",
    "                tuple['takeout'] = \"No\"\n",
    "            else:\n",
    "                tuple['takeout'] = \"Yes\"\n",
    "        \n",
    "        # Merging Outdoor seating\n",
    "        # If the value of ltable and rtables attributes differ, push \"unknown\"\n",
    "        # Else, use the left table attribute and push \"Yes\" for 1 and \"No\" for 0\n",
    "        if tuple['ltable_Outdoor_seating'] != tuple['rtable_Outdoor_seating']:\n",
    "            tuple['outdoor_seating'] = \"unknown\"\n",
    "        else:\n",
    "            if tuple['ltable_Outdoor_seating'] == 0:\n",
    "                tuple['outdoor_seating'] = \"No\"\n",
    "            else:\n",
    "                tuple['outdoor_seating'] = \"Yes\"\n",
    "        \n",
    "        # Updating the tuple in predications table\n",
    "        predictions.iloc[index] = tuple\n",
    "        indexes_to_keep.add(index)\n",
    "        \n",
    "    index += 1"
   ]
  },
  {
   "cell_type": "code",
   "execution_count": 61,
   "metadata": {
    "collapsed": false
   },
   "outputs": [
    {
     "data": {
      "text/html": [
       "<div>\n",
       "<table border=\"1\" class=\"dataframe\">\n",
       "  <thead>\n",
       "    <tr style=\"text-align: right;\">\n",
       "      <th></th>\n",
       "      <th>ltable_Name</th>\n",
       "      <th>ltable_Phone</th>\n",
       "      <th>ltable_Zipcode</th>\n",
       "      <th>ltable_State</th>\n",
       "      <th>ltable_City</th>\n",
       "      <th>ltable_Address</th>\n",
       "      <th>ltable_Delivery</th>\n",
       "      <th>ltable_Takeout</th>\n",
       "      <th>ltable_Outdoor_seating</th>\n",
       "      <th>rtable_Name</th>\n",
       "      <th>...</th>\n",
       "      <th>predicted</th>\n",
       "      <th>restaurant_name</th>\n",
       "      <th>phone</th>\n",
       "      <th>zipcode</th>\n",
       "      <th>state</th>\n",
       "      <th>city</th>\n",
       "      <th>address</th>\n",
       "      <th>delivery</th>\n",
       "      <th>takeout</th>\n",
       "      <th>outdoor_seating</th>\n",
       "    </tr>\n",
       "  </thead>\n",
       "  <tbody>\n",
       "    <tr>\n",
       "      <th>0</th>\n",
       "      <td>Oasis Cafe</td>\n",
       "      <td>(312) 443-9534</td>\n",
       "      <td>60602</td>\n",
       "      <td>IL</td>\n",
       "      <td>Chicago</td>\n",
       "      <td>21 N Wabash Ave</td>\n",
       "      <td>0</td>\n",
       "      <td>1</td>\n",
       "      <td>0</td>\n",
       "      <td>Heaven on Seven</td>\n",
       "      <td>...</td>\n",
       "      <td>0</td>\n",
       "      <td>None</td>\n",
       "      <td>None</td>\n",
       "      <td>None</td>\n",
       "      <td>None</td>\n",
       "      <td>None</td>\n",
       "      <td>None</td>\n",
       "      <td>None</td>\n",
       "      <td>None</td>\n",
       "      <td>None</td>\n",
       "    </tr>\n",
       "  </tbody>\n",
       "</table>\n",
       "<p>1 rows × 29 columns</p>\n",
       "</div>"
      ],
      "text/plain": [
       "  ltable_Name    ltable_Phone  ltable_Zipcode ltable_State ltable_City  \\\n",
       "0  Oasis Cafe  (312) 443-9534           60602           IL     Chicago   \n",
       "\n",
       "    ltable_Address  ltable_Delivery  ltable_Takeout  ltable_Outdoor_seating  \\\n",
       "0  21 N Wabash Ave                0               1                       0   \n",
       "\n",
       "       rtable_Name       ...        predicted  restaurant_name phone zipcode  \\\n",
       "0  Heaven on Seven       ...                0             None  None    None   \n",
       "\n",
       "  state  city  address  delivery  takeout  outdoor_seating  \n",
       "0  None  None     None      None     None             None  \n",
       "\n",
       "[1 rows x 29 columns]"
      ]
     },
     "execution_count": 61,
     "metadata": {},
     "output_type": "execute_result"
    }
   ],
   "source": [
    "# Print the schema\n",
    "predictions.head(1)"
   ]
  },
  {
   "cell_type": "code",
   "execution_count": 62,
   "metadata": {
    "collapsed": false
   },
   "outputs": [],
   "source": [
    "# Fetch only those rows where predicted = \"1\" => get correctly matched tuples\n",
    "sliced = predictions.take(list(indexes_to_keep))\n",
    "\n",
    "# Drop columns before merging. \n",
    "# Dropping old attributes\n",
    "\n",
    "del sliced['ltable_Name']\n",
    "del sliced['rtable_Name']\n",
    "del sliced['ltable_Phone']\n",
    "del sliced['rtable_Phone']\n",
    "del sliced['ltable_Zipcode']\n",
    "del sliced['rtable_Zipcode']\n",
    "del sliced['ltable_State']\n",
    "del sliced['rtable_State']\n",
    "del sliced['ltable_City']\n",
    "del sliced['rtable_City']\n",
    "del sliced['ltable_Address']\n",
    "del sliced['rtable_Address']\n",
    "del sliced['ltable_Delivery']\n",
    "del sliced['rtable_Delivery']\n",
    "del sliced['ltable_Takeout']\n",
    "del sliced['rtable_Takeout']\n",
    "del sliced['ltable_Outdoor_seating']\n",
    "del sliced['rtable_Outdoor_seating']\n",
    "del sliced['Label'] # Dropping the column'Label'\n",
    "del sliced['predicted'] # Dropping the column 'predicted\n",
    "\n",
    "sliced.to_csv(\"filtered_predictions.csv\") # Writing the resultant table to a CSV file."
   ]
  },
  {
   "cell_type": "code",
   "execution_count": 63,
   "metadata": {
    "collapsed": false
   },
   "outputs": [
    {
     "data": {
      "text/plain": [
       "(272, 9)"
      ]
     },
     "execution_count": 63,
     "metadata": {},
     "output_type": "execute_result"
    }
   ],
   "source": [
    "sliced.shape"
   ]
  },
  {
   "cell_type": "code",
   "execution_count": 64,
   "metadata": {
    "collapsed": false
   },
   "outputs": [
    {
     "data": {
      "text/html": [
       "<div>\n",
       "<table border=\"1\" class=\"dataframe\">\n",
       "  <thead>\n",
       "    <tr style=\"text-align: right;\">\n",
       "      <th></th>\n",
       "      <th>restaurant_name</th>\n",
       "      <th>phone</th>\n",
       "      <th>zipcode</th>\n",
       "      <th>state</th>\n",
       "      <th>city</th>\n",
       "      <th>address</th>\n",
       "      <th>delivery</th>\n",
       "      <th>takeout</th>\n",
       "      <th>outdoor_seating</th>\n",
       "    </tr>\n",
       "  </thead>\n",
       "  <tbody>\n",
       "    <tr>\n",
       "      <th>512</th>\n",
       "      <td>None</td>\n",
       "      <td>(212) 473-9148</td>\n",
       "      <td>10003</td>\n",
       "      <td>NY</td>\n",
       "      <td>New York</td>\n",
       "      <td>15 E 7th Street</td>\n",
       "      <td>No</td>\n",
       "      <td>No</td>\n",
       "      <td>No</td>\n",
       "    </tr>\n",
       "  </tbody>\n",
       "</table>\n",
       "</div>"
      ],
      "text/plain": [
       "    restaurant_name           phone zipcode state      city          address  \\\n",
       "512            None  (212) 473-9148   10003    NY  New York  15 E 7th Street   \n",
       "\n",
       "    delivery takeout outdoor_seating  \n",
       "512       No      No              No  "
      ]
     },
     "execution_count": 64,
     "metadata": {},
     "output_type": "execute_result"
    }
   ],
   "source": [
    "# Schema of the merged table\n",
    "sliced.head(1)"
   ]
  }
 ],
 "metadata": {
  "kernelspec": {
   "display_name": "Python 2",
   "language": "python",
   "name": "python2"
  },
  "language_info": {
   "codemirror_mode": {
    "name": "ipython",
    "version": 2
   },
   "file_extension": ".py",
   "mimetype": "text/x-python",
   "name": "python",
   "nbconvert_exporter": "python",
   "pygments_lexer": "ipython2",
   "version": "2.7.13"
  }
 },
 "nbformat": 4,
 "nbformat_minor": 2
}
