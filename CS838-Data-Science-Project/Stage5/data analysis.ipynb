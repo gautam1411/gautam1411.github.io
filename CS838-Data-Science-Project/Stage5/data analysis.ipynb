{
 "cells": [
  {
   "cell_type": "code",
   "execution_count": 1,
   "metadata": {
    "collapsed": true
   },
   "outputs": [],
   "source": [
    "import py_entitymatching as em #Import megallan entity matching library\n",
    "import math\n",
    "import warnings\n",
    "warnings.filterwarnings('ignore')\n",
    "\n",
    "# Pandas has useful data-structure and analysis tool\n",
    "import pandas as pd\n",
    "# numpy has a lots of useful math related modules \n",
    "import numpy as np\n",
    "# to check execution time\n",
    "import time\n",
    "# Helpful function to display intermittent result \n",
    "from IPython.display import display"
   ]
  },
  {
   "cell_type": "code",
   "execution_count": 39,
   "metadata": {
    "collapsed": false
   },
   "outputs": [
    {
     "data": {
      "text/html": [
       "<div>\n",
       "<table border=\"1\" class=\"dataframe\">\n",
       "  <thead>\n",
       "    <tr style=\"text-align: right;\">\n",
       "      <th></th>\n",
       "      <th>Unnamed: 0</th>\n",
       "      <th>id</th>\n",
       "      <th>Unnamed: 1</th>\n",
       "      <th>restaurant_name</th>\n",
       "      <th>phone</th>\n",
       "      <th>zipcode</th>\n",
       "      <th>state</th>\n",
       "      <th>city</th>\n",
       "      <th>address</th>\n",
       "      <th>delivery</th>\n",
       "      <th>takeout</th>\n",
       "      <th>outdoor_seating</th>\n",
       "      <th>pricy</th>\n",
       "      <th>rating</th>\n",
       "    </tr>\n",
       "  </thead>\n",
       "  <tbody>\n",
       "    <tr>\n",
       "      <th>0</th>\n",
       "      <td>0</td>\n",
       "      <td>1</td>\n",
       "      <td>512</td>\n",
       "      <td>McSorley’s Old Ale House</td>\n",
       "      <td>(212) 473-9148</td>\n",
       "      <td>10003</td>\n",
       "      <td>NY</td>\n",
       "      <td>New York</td>\n",
       "      <td>15 E 7th Street</td>\n",
       "      <td>0</td>\n",
       "      <td>0</td>\n",
       "      <td>0</td>\n",
       "      <td>1</td>\n",
       "      <td>4.4</td>\n",
       "    </tr>\n",
       "  </tbody>\n",
       "</table>\n",
       "</div>"
      ],
      "text/plain": [
       "   Unnamed: 0  id  Unnamed: 1           restaurant_name           phone  \\\n",
       "0           0   1         512  McSorley’s Old Ale House  (212) 473-9148   \n",
       "\n",
       "   zipcode state      city          address  delivery  takeout  \\\n",
       "0    10003    NY  New York  15 E 7th Street         0        0   \n",
       "\n",
       "   outdoor_seating  pricy  rating  \n",
       "0                0      1     4.4  "
      ]
     },
     "execution_count": 39,
     "metadata": {},
     "output_type": "execute_result"
    }
   ],
   "source": [
    "matching_records = em.read_csv_metadata(\"filtered_predictions.csv\",key=\"id\")\n",
    "yelp_original = em.read_csv_metadata(\"yelp_original.csv\",key=\"id\") \n",
    "zomato_original = em.read_csv_metadata(\"zomato_original.csv\",key=\"id\")\n",
    "matching_records.head(1)"
   ]
  },
  {
   "cell_type": "markdown",
   "metadata": {},
   "source": [
    "### Load the dataset"
   ]
  },
  {
   "cell_type": "code",
   "execution_count": 3,
   "metadata": {
    "collapsed": false
   },
   "outputs": [],
   "source": [
    "#sqlalchemy for sqlite3 use\n",
    "from sqlalchemy import create_engine\n",
    "import sqlite3\n",
    "#create a database where we'll load the dataset from the csv file \n",
    "engine = create_engine('sqlite:///yelpzomato.db')\n",
    "connection = engine.connect()"
   ]
  },
  {
   "cell_type": "code",
   "execution_count": 4,
   "metadata": {
    "collapsed": true
   },
   "outputs": [],
   "source": [
    "import string\n",
    "\n",
    "for data in pd.read_csv(\"filtered_predictions.csv\",\n",
    " iterator=True, encoding='utf-8'):\n",
    "    data.to_sql('data', engine, if_exists='append')"
   ]
  },
  {
   "cell_type": "markdown",
   "metadata": {},
   "source": [
    "### impact of delivery facility on pricing and rating"
   ]
  },
  {
   "cell_type": "code",
   "execution_count": 5,
   "metadata": {
    "collapsed": false
   },
   "outputs": [
    {
     "name": "stdout",
     "output_type": "stream",
     "text": [
      "((3.97051282051282,), (4.057500000000001,))\n"
     ]
    }
   ],
   "source": [
    "a = connection.execute(\"select AVG(rating) from data where delivery = 0\")\n",
    "b = connection.execute(\"select AVG(rating) from data where delivery = 1\")\n",
    "for data in zip(a,b):\n",
    "    print data"
   ]
  },
  {
   "cell_type": "markdown",
   "metadata": {},
   "source": [
    "#### Insight -\n",
    "Takeout facility hasn't affected the rating significantly."
   ]
  },
  {
   "cell_type": "code",
   "execution_count": 6,
   "metadata": {
    "collapsed": false
   },
   "outputs": [
    {
     "name": "stdout",
     "output_type": "stream",
     "text": [
      "((2.3361702127659574,), (1.9,))\n"
     ]
    }
   ],
   "source": [
    "a = connection.execute(\"select AVG(pricy) from data where delivery = 0\")\n",
    "b = connection.execute(\"select AVG(pricy) from data where delivery = 1\")\n",
    "for data in zip(a,b):\n",
    "    print data"
   ]
  },
  {
   "cell_type": "markdown",
   "metadata": {},
   "source": [
    "#### Insight -\n",
    "Restaurants that do not offer delivery facility on average are more pricy."
   ]
  },
  {
   "cell_type": "markdown",
   "metadata": {},
   "source": [
    "### impact of takeout facility on pricing and rating"
   ]
  },
  {
   "cell_type": "code",
   "execution_count": 7,
   "metadata": {
    "collapsed": false
   },
   "outputs": [
    {
     "name": "stdout",
     "output_type": "stream",
     "text": [
      "((3.9120000000000004,), (4.010050251256281,))\n"
     ]
    }
   ],
   "source": [
    "a = connection.execute(\"select AVG(rating) from data where takeout = 0\")\n",
    "b = connection.execute(\"select AVG(rating) from data where takeout = 1\")\n",
    "for data in zip(a,b):\n",
    "    print data"
   ]
  },
  {
   "cell_type": "markdown",
   "metadata": {},
   "source": [
    "#### Insight -\n",
    "Takeout facility hasn't affected the rating significantly, which means that perhaps people do not care much about outdoor seating"
   ]
  },
  {
   "cell_type": "code",
   "execution_count": 8,
   "metadata": {
    "collapsed": false
   },
   "outputs": [
    {
     "name": "stdout",
     "output_type": "stream",
     "text": [
      "((2.763157894736842,), (2.0854271356783918,))\n"
     ]
    }
   ],
   "source": [
    "a = connection.execute(\"select AVG(pricy) from data where takeout = 0\")\n",
    "b = connection.execute(\"select AVG(pricy) from data where takeout = 1\")\n",
    "for data in zip(a,b):\n",
    "    print data"
   ]
  },
  {
   "cell_type": "markdown",
   "metadata": {},
   "source": [
    "#### Insight - \n",
    "Restaurants that do not offer takeout facility on average are more pricy."
   ]
  },
  {
   "cell_type": "markdown",
   "metadata": {},
   "source": [
    "### impact of outdoor seating on pricing and rating"
   ]
  },
  {
   "cell_type": "code",
   "execution_count": 9,
   "metadata": {
    "collapsed": false
   },
   "outputs": [
    {
     "name": "stdout",
     "output_type": "stream",
     "text": [
      "((3.999371069182388,), (3.9608695652173904,))\n"
     ]
    }
   ],
   "source": [
    "a = connection.execute(\"select AVG(rating) from data where outdoor_seating = 0\")\n",
    "b = connection.execute(\"select AVG(rating) from data where outdoor_seating = 1\")\n",
    "for data in zip(a,b):\n",
    "    print data"
   ]
  },
  {
   "cell_type": "markdown",
   "metadata": {},
   "source": [
    "#### Insight -\n",
    "Outdoor seating hasn't affected the rating significantly, which means that perhaps people do not care much about\n",
    "outdoor seating. "
   ]
  },
  {
   "cell_type": "code",
   "execution_count": 30,
   "metadata": {
    "collapsed": false
   },
   "outputs": [
    {
     "name": "stdout",
     "output_type": "stream",
     "text": [
      "((2.763157894736842,), (2.0854271356783918,))\n"
     ]
    }
   ],
   "source": [
    "a = connection.execute(\"select AVG(pricy) from data where takeout = 0\")\n",
    "b = connection.execute(\"select AVG(pricy) from data where takeout = 1\")\n",
    "for data in zip(a,b):\n",
    "    print data"
   ]
  },
  {
   "cell_type": "markdown",
   "metadata": {},
   "source": [
    "#### Insight - \n",
    "Restaurants that do not offer outdoor seating on average are more pricy."
   ]
  },
  {
   "cell_type": "markdown",
   "metadata": {},
   "source": [
    "### impact of delivery and takeout on rating and pricing"
   ]
  },
  {
   "cell_type": "code",
   "execution_count": 11,
   "metadata": {
    "collapsed": false
   },
   "outputs": [
    {
     "name": "stdout",
     "output_type": "stream",
     "text": [
      "((3.9120000000000004,), (3.998113207547168,), (None,), (4.057500000000001,))\n"
     ]
    }
   ],
   "source": [
    "a = connection.execute(\"select AVG(rating) from data where delivery = 0 and takeout = 0\")\n",
    "b = connection.execute(\"select AVG(rating) from data where delivery = 0 and takeout = 1\")\n",
    "c = connection.execute(\"select AVG(rating) from data where delivery = 1 and takeout = 0\")\n",
    "d = connection.execute(\"select AVG(rating) from data where delivery = 1 and takeout = 1\")\n",
    "for data in zip(a,b,c,d):\n",
    "    print data"
   ]
  },
  {
   "cell_type": "code",
   "execution_count": 12,
   "metadata": {
    "collapsed": false
   },
   "outputs": [
    {
     "name": "stdout",
     "output_type": "stream",
     "text": [
      "((2.763157894736842,), (2.1320754716981134,), (None,), (1.9,))\n"
     ]
    }
   ],
   "source": [
    "a = connection.execute(\"select AVG(pricy) from data where delivery = 0 and takeout = 0\")\n",
    "b = connection.execute(\"select AVG(pricy) from data where delivery = 0 and takeout = 1\")\n",
    "c = connection.execute(\"select AVG(pricy) from data where delivery = 1 and takeout = 0\")\n",
    "d = connection.execute(\"select AVG(pricy) from data where delivery = 1 and takeout = 1\")\n",
    "for data in zip(a,b,c,d):\n",
    "    print data"
   ]
  },
  {
   "cell_type": "markdown",
   "metadata": {},
   "source": [
    "### impact of delivery and outdoor seating on rating and pricing"
   ]
  },
  {
   "cell_type": "code",
   "execution_count": 13,
   "metadata": {
    "collapsed": false
   },
   "outputs": [
    {
     "name": "stdout",
     "output_type": "stream",
     "text": [
      "((3.96439393939394,), (3.978431372549019,), (4.170370370370371,), (3.8230769230769233,))\n"
     ]
    }
   ],
   "source": [
    "a = connection.execute(\"select AVG(rating) from data where delivery = 0 and outdoor_seating = 0\")\n",
    "b = connection.execute(\"select AVG(rating) from data where delivery = 0 and outdoor_seating = 1\")\n",
    "c = connection.execute(\"select AVG(rating) from data where delivery = 1 and outdoor_seating = 0\")\n",
    "d = connection.execute(\"select AVG(rating) from data where delivery = 1 and outdoor_seating = 1\")\n",
    "for data in zip(a,b,c,d):\n",
    "    print data"
   ]
  },
  {
   "cell_type": "code",
   "execution_count": 14,
   "metadata": {
    "collapsed": false
   },
   "outputs": [
    {
     "name": "stdout",
     "output_type": "stream",
     "text": [
      "((2.763157894736842,), (2.1320754716981134,), (None,), (1.9,))\n"
     ]
    }
   ],
   "source": [
    "a = connection.execute(\"select AVG(pricy) from data where delivery = 0 and takeout = 0\")\n",
    "b = connection.execute(\"select AVG(pricy) from data where delivery = 0 and takeout = 1\")\n",
    "c = connection.execute(\"select AVG(pricy) from data where delivery = 1 and takeout = 0\")\n",
    "d = connection.execute(\"select AVG(pricy) from data where delivery = 1 and takeout = 1\")\n",
    "for data in zip(a,b,c,d):\n",
    "    print data"
   ]
  },
  {
   "cell_type": "markdown",
   "metadata": {},
   "source": [
    "### impact of takeout and outdoor seating on rating and pricing"
   ]
  },
  {
   "cell_type": "code",
   "execution_count": 15,
   "metadata": {
    "collapsed": false
   },
   "outputs": [
    {
     "name": "stdout",
     "output_type": "stream",
     "text": [
      "((3.9078431372549027,), (3.920833333333333,), (4.042592592592592,), (3.9714285714285693,))\n"
     ]
    }
   ],
   "source": [
    "a = connection.execute(\"select AVG(rating) from data where takeout = 0 and outdoor_seating = 0\")\n",
    "b = connection.execute(\"select AVG(rating) from data where takeout = 0 and outdoor_seating = 1\")\n",
    "c = connection.execute(\"select AVG(rating) from data where takeout = 1 and outdoor_seating = 0\")\n",
    "d = connection.execute(\"select AVG(rating) from data where takeout = 1 and outdoor_seating = 1\")\n",
    "for data in zip(a,b,c,d):\n",
    "    print data"
   ]
  },
  {
   "cell_type": "code",
   "execution_count": 16,
   "metadata": {
    "collapsed": false
   },
   "outputs": [
    {
     "name": "stdout",
     "output_type": "stream",
     "text": [
      "((2.9423076923076925,), (2.375,), (2.1296296296296298,), (2.032967032967033,))\n"
     ]
    }
   ],
   "source": [
    "a = connection.execute(\"select AVG(pricy) from data where takeout = 0 and outdoor_seating = 0\")\n",
    "b = connection.execute(\"select AVG(pricy) from data where takeout = 0 and outdoor_seating = 1\")\n",
    "c = connection.execute(\"select AVG(pricy) from data where takeout = 1 and outdoor_seating = 0\")\n",
    "d = connection.execute(\"select AVG(pricy) from data where takeout = 1 and outdoor_seating = 1\")\n",
    "for data in zip(a,b,c,d):\n",
    "    print data"
   ]
  },
  {
   "cell_type": "markdown",
   "metadata": {},
   "source": [
    "### impact of delivery, takout and outdoor seating on rating and pricing"
   ]
  },
  {
   "cell_type": "code",
   "execution_count": 17,
   "metadata": {
    "collapsed": false
   },
   "outputs": [
    {
     "name": "stdout",
     "output_type": "stream",
     "text": [
      "((3.9078431372549027,), (3.920833333333333,), (4.000000000000001,), (3.9961538461538444,), (None,), (None,), (4.170370370370371,), (3.8230769230769233,))\n"
     ]
    }
   ],
   "source": [
    "a = connection.execute(\"select AVG(rating) from data where delivery = 0 and takeout = 0 and outdoor_seating = 0\")\n",
    "b = connection.execute(\"select AVG(rating) from data where delivery = 0 and takeout = 0 and outdoor_seating = 1\")\n",
    "c = connection.execute(\"select AVG(rating) from data where delivery = 0 and takeout = 1 and outdoor_seating = 0\")\n",
    "d = connection.execute(\"select AVG(rating) from data where delivery = 0 and takeout = 1 and outdoor_seating = 1\")\n",
    "e = connection.execute(\"select AVG(rating) from data where delivery = 1 and takeout = 0 and outdoor_seating = 0\")\n",
    "f = connection.execute(\"select AVG(rating) from data where delivery = 1 and takeout = 0 and outdoor_seating = 1\")\n",
    "g = connection.execute(\"select AVG(rating) from data where delivery = 1 and takeout = 1 and outdoor_seating = 0\")\n",
    "h = connection.execute(\"select AVG(rating) from data where delivery = 1 and takeout = 1 and outdoor_seating = 1\")\n",
    "for data in zip(a,b,c,d,e,f,g,h):\n",
    "    print data"
   ]
  },
  {
   "cell_type": "markdown",
   "metadata": {},
   "source": [
    "#### Interesting Insight - \n",
    "\n",
    "+ Customers prefer restaruants that have delivery and takeout facility and rate them the highest. \n",
    "+ Restaurants that offer all three services overall have received lowest average rating, perhaps since they are cheapest,\n",
    "they do not live upto the standard of the costlier peers in the game. \n",
    "+ Other categories lie in the middle. "
   ]
  },
  {
   "cell_type": "code",
   "execution_count": 18,
   "metadata": {
    "collapsed": false
   },
   "outputs": [
    {
     "name": "stdout",
     "output_type": "stream",
     "text": [
      "((2.9423076923076925,), (2.375,), (2.197530864197531,), (2.0641025641025643,), (None,), (None,), (1.9259259259259258,), (1.8461538461538463,))\n"
     ]
    }
   ],
   "source": [
    "a = connection.execute(\"select AVG(pricy) from data where delivery = 0 and takeout = 0 and outdoor_seating = 0\")\n",
    "b = connection.execute(\"select AVG(pricy) from data where delivery = 0 and takeout = 0 and outdoor_seating = 1\")\n",
    "c = connection.execute(\"select AVG(pricy) from data where delivery = 0 and takeout = 1 and outdoor_seating = 0\")\n",
    "d = connection.execute(\"select AVG(pricy) from data where delivery = 0 and takeout = 1 and outdoor_seating = 1\")\n",
    "e = connection.execute(\"select AVG(pricy) from data where delivery = 1 and takeout = 0 and outdoor_seating = 0\")\n",
    "f = connection.execute(\"select AVG(pricy) from data where delivery = 1 and takeout = 0 and outdoor_seating = 1\")\n",
    "g = connection.execute(\"select AVG(pricy) from data where delivery = 1 and takeout = 1 and outdoor_seating = 0\")\n",
    "h = connection.execute(\"select AVG(pricy) from data where delivery = 1 and takeout = 1 and outdoor_seating = 1\")\n",
    "for data in zip(a,b,c,d,e,f,g,h):\n",
    "    print data"
   ]
  },
  {
   "cell_type": "markdown",
   "metadata": {},
   "source": [
    "#### Interesting Insight - \n",
    "\n",
    "+ The priciest restaurants do not offer delivery, takeout and outdoor seating facility. They belong to luxurious class.\n",
    "+ The next category is has the restaurants which are slightly less pricy but just offer outdoor seating facility. \n",
    "+ The trend goes on like this and the restaurants which offer all three facilites are the cheapest. "
   ]
  },
  {
   "cell_type": "markdown",
   "metadata": {},
   "source": [
    "### Data Distribution based on city "
   ]
  },
  {
   "cell_type": "code",
   "execution_count": 19,
   "metadata": {
    "collapsed": false
   },
   "outputs": [
    {
     "name": "stdout",
     "output_type": "stream",
     "text": [
      "(u'Brooklyn', 5)\n",
      "(u'Chicago', 91)\n",
      "(u'New York', 60)\n",
      "(u'San Francisco', 85)\n",
      "(u'Seattle', 34)\n"
     ]
    }
   ],
   "source": [
    "a = connection.execute(\"select city, count(city) from data group by city\")\n",
    "for data in a:\n",
    "    print data"
   ]
  },
  {
   "cell_type": "code",
   "execution_count": null,
   "metadata": {
    "collapsed": true
   },
   "outputs": [],
   "source": [
    "Brooklyn has very few instances, hence any inference drawn might be inaccurate."
   ]
  },
  {
   "cell_type": "markdown",
   "metadata": {},
   "source": [
    "### impact of city on rating and pricing"
   ]
  },
  {
   "cell_type": "code",
   "execution_count": 20,
   "metadata": {
    "collapsed": false
   },
   "outputs": [
    {
     "name": "stdout",
     "output_type": "stream",
     "text": [
      "(u'Brooklyn', 2.6, 4.0600000000000005)\n",
      "(u'Chicago', 2.3076923076923075, 4.04175824175824)\n",
      "(u'New York', 2.5833333333333335, 4.114999999999999)\n",
      "(u'San Francisco', 2.1058823529411765, 3.8440476190476196)\n",
      "(u'Seattle', 2.0, 3.9264705882352935)\n"
     ]
    }
   ],
   "source": [
    "a = connection.execute(\"select city, AVG(pricy), AVG(rating) from data group by city\")\n",
    "for data in a:\n",
    "    print data"
   ]
  },
  {
   "cell_type": "markdown",
   "metadata": {},
   "source": [
    "+ Shows that Seattle is least pricy but has overall average user rating. \n",
    "+ Restaurants in San Francisco have overall worst rating. \n",
    "+ New York has pricest restaurants with highest user rating. \n",
    "+ Brooklyn - no inference due to lack to adequate number of instances."
   ]
  },
  {
   "cell_type": "markdown",
   "metadata": {},
   "source": [
    "### Restaurants in Chicago which are most expensive"
   ]
  },
  {
   "cell_type": "code",
   "execution_count": 27,
   "metadata": {
    "collapsed": false
   },
   "outputs": [
    {
     "name": "stdout",
     "output_type": "stream",
     "text": [
      "(u'Benny\\u2019s Chop House', 4)\n",
      "(u'Tru', 4)\n",
      "(u'Joe\\u2019s Seafood', 4)\n",
      "(u'Alinea', 4)\n",
      "(u'Schwa', 4)\n",
      "(u'mk The Restaurant', 4)\n",
      "(u'North Pond', 4)\n"
     ]
    }
   ],
   "source": [
    "a = connection.execute(\"select restaurant_name,pricy from data where city = 'Chicago' and pricy = 4\")\n",
    "for data in a:\n",
    "    print data"
   ]
  },
  {
   "cell_type": "markdown",
   "metadata": {},
   "source": [
    "### Number of most pricy(4) restaurants in each city"
   ]
  },
  {
   "cell_type": "code",
   "execution_count": 29,
   "metadata": {
    "collapsed": false
   },
   "outputs": [
    {
     "name": "stdout",
     "output_type": "stream",
     "text": [
      "(1, u'Brooklyn')\n",
      "(7, u'Chicago')\n",
      "(14, u'New York')\n",
      "(5, u'San Francisco')\n"
     ]
    }
   ],
   "source": [
    "a = connection.execute(\"select count(restaurant_name),city from data where pricy = 4 group by city\")\n",
    "for data in a:\n",
    "    print data"
   ]
  },
  {
   "cell_type": "markdown",
   "metadata": {},
   "source": [
    "+ The above result suggests that 'New York' has over all more number of pricy restaurants.\n",
    "+ Based the above result and also the data distribution city wise, we observe that, Seattle is the cheapest of all followed by San Francisco, then Chicago and New York being the most expensive one. \n",
    "+ Brooklyn has not been considered since there are very few instances of Brooklyn. "
   ]
  },
  {
   "cell_type": "markdown",
   "metadata": {},
   "source": [
    "### Impact of Location on Price and Rating"
   ]
  },
  {
   "cell_type": "code",
   "execution_count": 34,
   "metadata": {
    "collapsed": false
   },
   "outputs": [
    {
     "name": "stdout",
     "output_type": "stream",
     "text": [
      "(11201, 11231, u'Brooklyn')\n",
      "(60603, 60661, u'Chicago')\n",
      "(10001, 10023, u'New York')\n",
      "(94102, 94133, u'San Francisco')\n",
      "(98101, 98199, u'Seattle')\n"
     ]
    }
   ],
   "source": [
    "a = connection.execute(\"select min(zipcode), max(zipcode), city from data group by city\")\n",
    "for data in a:\n",
    "    print data"
   ]
  },
  {
   "cell_type": "markdown",
   "metadata": {},
   "source": [
    "+ The above query gives the range of zipcode for restaurant in records for each city.\n",
    "+ This data can be used for location based analysis."
   ]
  },
  {
   "cell_type": "markdown",
   "metadata": {},
   "source": [
    "### Location based analysis on New York"
   ]
  },
  {
   "cell_type": "code",
   "execution_count": 38,
   "metadata": {
    "collapsed": false
   },
   "outputs": [
    {
     "name": "stdout",
     "output_type": "stream",
     "text": [
      "((2.0625, 4.175, 16), (2.7142857142857144, 4.128571428571428, 7), (2.59375, 4.078124999999999, 32), (4.0, 4.14, 5))\n"
     ]
    }
   ],
   "source": [
    "a = connection.execute(\"select avg(pricy),avg(rating),count(restaurant_name) from data where zipcode between 10001 and 10005\")\n",
    "b = connection.execute(\"select avg(pricy),avg(rating),count(restaurant_name) from data where zipcode between 10006 and 10010\")\n",
    "c = connection.execute(\"select avg(pricy),avg(rating),count(restaurant_name) from data where zipcode between 10011 and 10015\")\n",
    "d = connection.execute(\"select avg(pricy),avg(rating),count(restaurant_name) from data where zipcode between 10016 and 10023\")\n",
    "for data in zip(a,b,c,d):\n",
    "    print data"
   ]
  },
  {
   "cell_type": "markdown",
   "metadata": {},
   "source": [
    "#### Insight -\n",
    "+ We observe that zipcode 10016 - 10023 has costliest restaurants with highest pricy rating.\n",
    "+ Zipcode 10001 - 10005 has cheapest restaurants. \n",
    "+ Maximum number of restaurants lie in zipcode range 10011 - 10015 and the avg rating rating is also 4.07 which is pretty decent.   "
   ]
  },
  {
   "cell_type": "code",
   "execution_count": 22,
   "metadata": {
    "collapsed": true
   },
   "outputs": [],
   "source": [
    "#connection.close()\n",
    "#engine.dispose()"
   ]
  }
 ],
 "metadata": {
  "kernelspec": {
   "display_name": "Python 2",
   "language": "python",
   "name": "python2"
  },
  "language_info": {
   "codemirror_mode": {
    "name": "ipython",
    "version": 2
   },
   "file_extension": ".py",
   "mimetype": "text/x-python",
   "name": "python",
   "nbconvert_exporter": "python",
   "pygments_lexer": "ipython2",
   "version": "2.7.13"
  }
 },
 "nbformat": 4,
 "nbformat_minor": 2
}
