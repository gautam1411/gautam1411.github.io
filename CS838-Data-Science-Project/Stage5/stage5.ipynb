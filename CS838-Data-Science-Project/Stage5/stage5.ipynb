{
 "cells": [
  {
   "cell_type": "code",
   "execution_count": 34,
   "metadata": {
    "collapsed": true
   },
   "outputs": [],
   "source": [
    "import py_entitymatching as em #Import megallan entity matching library\n",
    "import math\n",
    "import warnings\n",
    "warnings.filterwarnings('ignore')"
   ]
  },
  {
   "cell_type": "code",
   "execution_count": 35,
   "metadata": {
    "collapsed": true
   },
   "outputs": [],
   "source": [
    "def phone_match(str1,str2):\n",
    "    if type(str1) is float and type(str2) is float:\n",
    "        if math.isnan(str1) and math.isnan(str2):\n",
    "            return True\n",
    "    elif type(str1) is float:\n",
    "        if math.isnan(str1):\n",
    "            return False\n",
    "    elif type(str2) is float:\n",
    "        if math.isnan(str2):\n",
    "            return False\n",
    "    else:\n",
    "        stra = \"\"\n",
    "        strb = \"\"\n",
    "        for ch in str1:\n",
    "            if ch.isdigit():\n",
    "                stra += ch\n",
    "        for ch in str2:\n",
    "            if ch.isdigit():\n",
    "                strb += ch\n",
    "        if stra == strb:\n",
    "            return True\n",
    "        else:\n",
    "            return False"
   ]
  },
  {
   "cell_type": "code",
   "execution_count": 36,
   "metadata": {
    "collapsed": false
   },
   "outputs": [],
   "source": [
    "matching_records = em.read_csv_metadata(\"before_merging.csv\",key=\"id\")\n",
    "yelp_original = em.read_csv_metadata(\"yelp_original.csv\",key=\"id\") \n",
    "zomato_original = em.read_csv_metadata(\"zomato_original.csv\",key=\"id\") "
   ]
  },
  {
   "cell_type": "code",
   "execution_count": 37,
   "metadata": {
    "collapsed": false
   },
   "outputs": [
    {
     "data": {
      "text/plain": [
       "Index([u'id', u'Unnamed: 1', u'ltable_Name', u'ltable_Phone',\n",
       "       u'ltable_Zipcode', u'ltable_State', u'ltable_City', u'ltable_Address',\n",
       "       u'ltable_Delivery', u'ltable_Takeout', u'ltable_Outdoor_seating',\n",
       "       u'rtable_Name', u'rtable_Phone', u'rtable_Zipcode', u'rtable_State',\n",
       "       u'rtable_City', u'rtable_Address', u'rtable_Delivery',\n",
       "       u'rtable_Takeout', u'rtable_Outdoor_seating', u'Label', u'predicted',\n",
       "       u'restaurant_name', u'phone', u'zipcode', u'state', u'city', u'address',\n",
       "       u'delivery', u'takeout', u'outdoor_seating', u'pricy', u'rating'],\n",
       "      dtype='object')"
      ]
     },
     "execution_count": 37,
     "metadata": {},
     "output_type": "execute_result"
    }
   ],
   "source": [
    "matching_records.columns"
   ]
  },
  {
   "cell_type": "code",
   "execution_count": 38,
   "metadata": {
    "collapsed": false
   },
   "outputs": [
    {
     "data": {
      "text/plain": [
       "Index([u'id', u'Name', u'Phone', u'Price', u'Zipcode', u'State', u'City',\n",
       "       u'Address', u'Has Delivery', u'Has Take-out', u'Has outdoor seating',\n",
       "       u'Parking'],\n",
       "      dtype='object')"
      ]
     },
     "execution_count": 38,
     "metadata": {},
     "output_type": "execute_result"
    }
   ],
   "source": [
    "yelp_original.columns # Original CSV file with added Pricyness column"
   ]
  },
  {
   "cell_type": "code",
   "execution_count": 39,
   "metadata": {
    "collapsed": false
   },
   "outputs": [
    {
     "data": {
      "text/plain": [
       "Index([u'id', u'Name', u'Phone', u'Rating', u'Price', u'Zipcode', u'State',\n",
       "       u'City', u'Address', u'Delivery', u'Takeout', u'Outdoor', u'Parking'],\n",
       "      dtype='object')"
      ]
     },
     "execution_count": 39,
     "metadata": {},
     "output_type": "execute_result"
    }
   ],
   "source": [
    "zomato_original.columns # Original CSV with added Rating column"
   ]
  },
  {
   "cell_type": "markdown",
   "metadata": {},
   "source": [
    "## Schema Merging"
   ]
  },
  {
   "cell_type": "code",
   "execution_count": 41,
   "metadata": {
    "collapsed": false
   },
   "outputs": [],
   "source": [
    "indexes_to_keep = set()\n",
    "index = 0\n",
    "\n",
    "for index in range(matching_records.shape[0]):\n",
    "    tuple = matching_records.iloc[index]\n",
    "    if tuple['predicted'] == 1:\n",
    "        \n",
    "        # Merging the Names - \n",
    "        # Picking the one that has more length\n",
    "        if len(tuple['ltable_Name']) > len(tuple['rtable_Name']):\n",
    "            tuple['restaurant_name'] = tuple['ltable_Name']\n",
    "        else:\n",
    "            tuple['restaurant_name'] = tuple['rtable_Name']\n",
    "        \n",
    "        # Merging the Phone no - \n",
    "        phone1 = tuple['ltable_Phone']\n",
    "        phone2 = tuple['rtable_Phone']\n",
    "        if phone_match(phone1, phone2) is True: # When phone numbers are same\n",
    "            tuple['phone'] = phone1\n",
    "        else: # Case when phone nos are different. We keep both separated by comma.\n",
    "            tuple['phone'] = phone1+ \",\" + phone2\n",
    "        \n",
    "        # Merging the Zipcode - \n",
    "        # Since blocking was done based on exact match for ZipCode, picking the left table attribute value\n",
    "        tuple['zipcode'] = tuple['ltable_Zipcode']\n",
    "        \n",
    "        # Merging the State - \n",
    "        # Picking the left table attribute \n",
    "        tuple['state'] = tuple['ltable_State']\n",
    "        \n",
    "        # Merging the City -\n",
    "        # Picking the left table attribute\n",
    "        tuple['city'] = tuple['ltable_City']\n",
    "        \n",
    "        # Merging the Address\n",
    "        # Picking the one that has more length\n",
    "        if len(tuple['ltable_Address']) > len(tuple['rtable_Address']):\n",
    "            tuple['address'] = tuple['ltable_Address']\n",
    "        else:\n",
    "            tuple['address'] = tuple['rtable_Address']\n",
    "        \n",
    "          \n",
    "        tuple['delivery'] = tuple['rtable_Delivery']  \n",
    "        tuple['takeout'] = tuple['rtable_Takeout']\n",
    "        tuple['outdoor_seating'] = tuple['ltable_Outdoor_seating']\n",
    "        \n",
    "        # For rating\n",
    "        for ind in range(zomato_original.shape[0]):\n",
    "            entry = zomato_original.iloc[ind]\n",
    "            if entry['Name'] == tuple['rtable_Name']:\n",
    "                tuple['rating'] = entry['Rating']\n",
    "                break\n",
    "        \n",
    "        # For priciness\n",
    "        for ind in range(yelp_original.shape[0]):\n",
    "            entry = yelp_original.iloc[ind]\n",
    "            if entry['Name'] == tuple['ltable_Name']:\n",
    "                tuple['pricy'] = entry['Price']\n",
    "                break\n",
    "        \n",
    "        # Updating the tuple in predications table\n",
    "        matching_records.iloc[index] = tuple\n",
    "        indexes_to_keep.add(index)\n",
    "        \n",
    "    index += 1"
   ]
  },
  {
   "cell_type": "code",
   "execution_count": 42,
   "metadata": {
    "collapsed": false
   },
   "outputs": [
    {
     "data": {
      "text/html": [
       "<div>\n",
       "<table border=\"1\" class=\"dataframe\">\n",
       "  <thead>\n",
       "    <tr style=\"text-align: right;\">\n",
       "      <th></th>\n",
       "      <th>id</th>\n",
       "      <th>Unnamed: 1</th>\n",
       "      <th>ltable_Name</th>\n",
       "      <th>ltable_Phone</th>\n",
       "      <th>ltable_Zipcode</th>\n",
       "      <th>ltable_State</th>\n",
       "      <th>ltable_City</th>\n",
       "      <th>ltable_Address</th>\n",
       "      <th>ltable_Delivery</th>\n",
       "      <th>ltable_Takeout</th>\n",
       "      <th>...</th>\n",
       "      <th>phone</th>\n",
       "      <th>zipcode</th>\n",
       "      <th>state</th>\n",
       "      <th>city</th>\n",
       "      <th>address</th>\n",
       "      <th>delivery</th>\n",
       "      <th>takeout</th>\n",
       "      <th>outdoor_seating</th>\n",
       "      <th>pricy</th>\n",
       "      <th>rating</th>\n",
       "    </tr>\n",
       "  </thead>\n",
       "  <tbody>\n",
       "    <tr>\n",
       "      <th>0</th>\n",
       "      <td>1</td>\n",
       "      <td>512</td>\n",
       "      <td>McSorley’s Old Ale House</td>\n",
       "      <td>(212) 473-9148</td>\n",
       "      <td>10003</td>\n",
       "      <td>NY</td>\n",
       "      <td>New York</td>\n",
       "      <td>15 E 7th St</td>\n",
       "      <td>0</td>\n",
       "      <td>0</td>\n",
       "      <td>...</td>\n",
       "      <td>(212) 473-9148</td>\n",
       "      <td>10003.0</td>\n",
       "      <td>NY</td>\n",
       "      <td>New York</td>\n",
       "      <td>15 E 7th Street</td>\n",
       "      <td>0.0</td>\n",
       "      <td>0.0</td>\n",
       "      <td>0.0</td>\n",
       "      <td>1.0</td>\n",
       "      <td>4.4</td>\n",
       "    </tr>\n",
       "  </tbody>\n",
       "</table>\n",
       "<p>1 rows × 33 columns</p>\n",
       "</div>"
      ],
      "text/plain": [
       "   id  Unnamed: 1               ltable_Name    ltable_Phone  ltable_Zipcode  \\\n",
       "0   1         512  McSorley’s Old Ale House  (212) 473-9148           10003   \n",
       "\n",
       "  ltable_State ltable_City ltable_Address  ltable_Delivery  ltable_Takeout  \\\n",
       "0           NY    New York    15 E 7th St                0               0   \n",
       "\n",
       "    ...             phone  zipcode state      city          address delivery  \\\n",
       "0   ...    (212) 473-9148  10003.0    NY  New York  15 E 7th Street      0.0   \n",
       "\n",
       "  takeout  outdoor_seating  pricy  rating  \n",
       "0     0.0              0.0    1.0     4.4  \n",
       "\n",
       "[1 rows x 33 columns]"
      ]
     },
     "execution_count": 42,
     "metadata": {},
     "output_type": "execute_result"
    }
   ],
   "source": [
    "# Print the schema\n",
    "matching_records.head(1)"
   ]
  },
  {
   "cell_type": "code",
   "execution_count": 44,
   "metadata": {
    "collapsed": false
   },
   "outputs": [],
   "source": [
    "# Fetch only those rows where predicted = \"1\" => get correctly matched tuples\n",
    "sliced = matching_records.take(list(indexes_to_keep))\n",
    "\n",
    "# Drop columns before merging. \n",
    "# Dropping old attributes\n",
    "\n",
    "del sliced['ltable_Name']\n",
    "del sliced['rtable_Name']\n",
    "del sliced['ltable_Phone']\n",
    "del sliced['rtable_Phone']\n",
    "del sliced['ltable_Zipcode']\n",
    "del sliced['rtable_Zipcode']\n",
    "del sliced['ltable_State']\n",
    "del sliced['rtable_State']\n",
    "del sliced['ltable_City']\n",
    "del sliced['rtable_City']\n",
    "del sliced['ltable_Address']\n",
    "del sliced['rtable_Address']\n",
    "del sliced['ltable_Delivery']\n",
    "del sliced['rtable_Delivery']\n",
    "del sliced['ltable_Takeout']\n",
    "del sliced['rtable_Takeout']\n",
    "del sliced['ltable_Outdoor_seating']\n",
    "del sliced['rtable_Outdoor_seating']\n",
    "del sliced['Label'] # Dropping the column'Label'\n",
    "del sliced['predicted'] # Dropping the column 'predicted\n",
    "\n",
    "sliced.to_csv(\"filtered_predictions.csv\") # Writing the resultant table to a CSV file.s"
   ]
  }
 ],
 "metadata": {
  "kernelspec": {
   "display_name": "Python 2",
   "language": "python",
   "name": "python2"
  },
  "language_info": {
   "codemirror_mode": {
    "name": "ipython",
    "version": 2
   },
   "file_extension": ".py",
   "mimetype": "text/x-python",
   "name": "python",
   "nbconvert_exporter": "python",
   "pygments_lexer": "ipython2",
   "version": "2.7.13"
  }
 },
 "nbformat": 4,
 "nbformat_minor": 2
}
